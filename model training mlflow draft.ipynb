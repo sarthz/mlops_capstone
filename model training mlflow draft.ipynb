{
 "cells": [
  {
   "cell_type": "code",
   "execution_count": 54,
   "id": "3b6e5074",
   "metadata": {},
   "outputs": [],
   "source": [
    "import pandas as pd\n",
    "import mlflow\n",
    "import pickle"
   ]
  },
  {
   "cell_type": "markdown",
   "id": "60b002a0",
   "metadata": {},
   "source": [
    "<h3> Read Pickled dataframees </h3>"
   ]
  },
  {
   "cell_type": "code",
   "execution_count": 3,
   "id": "979edef5",
   "metadata": {},
   "outputs": [],
   "source": [
    "df_full = pd.read_pickle(\"./df_full.pkl\")\n",
    "df_train = pd.read_pickle(\"./df_train.pkl\")\n",
    "df_val = pd.read_pickle(\"./df_val.pkl\")\n",
    "df_test = pd.read_pickle(\"./df_test.pkl\")\n",
    "\n",
    "y_train = pd.read_pickle(\"./y_train.pkl\")\n",
    "y_val = pd.read_pickle(\"./y_val.pkl\")\n",
    "y_test = pd.read_pickle(\"./y_test.pkl\")\n"
   ]
  },
  {
   "cell_type": "markdown",
   "id": "de501739",
   "metadata": {},
   "source": [
    "<h3> Set mlflow tracking uri and experiment </h3>"
   ]
  },
  {
   "cell_type": "code",
   "execution_count": 84,
   "id": "3a720688",
   "metadata": {},
   "outputs": [
    {
     "name": "stderr",
     "output_type": "stream",
     "text": [
      "2023/08/16 12:34:01 INFO mlflow.tracking.fluent: Experiment with name 'kkbox-churn-prediction2' does not exist. Creating a new experiment.\n"
     ]
    },
    {
     "data": {
      "text/plain": [
       "<Experiment: artifact_location=('/Users/sarveshthakur/Documents/MLOps '\n",
       " 'Zoomcamp/mlops-zoomcamp-practice/capstone project/mlruns/2'), creation_time=1692203641870, experiment_id='2', last_update_time=1692203641870, lifecycle_stage='active', name='kkbox-churn-prediction2', tags={}>"
      ]
     },
     "execution_count": 84,
     "metadata": {},
     "output_type": "execute_result"
    }
   ],
   "source": [
    "mlflow.set_tracking_uri(\"sqlite:///mlflow.db\")\n",
    "mlflow.set_experiment(\"kkbox-churn-prediction2\")"
   ]
  },
  {
   "cell_type": "markdown",
   "id": "e6bc1319",
   "metadata": {},
   "source": [
    "<h3> Dict Vectorizer </h3>"
   ]
  },
  {
   "cell_type": "code",
   "execution_count": 5,
   "id": "3e6216b2",
   "metadata": {},
   "outputs": [],
   "source": [
    "from sklearn.feature_extraction import DictVectorizer"
   ]
  },
  {
   "cell_type": "code",
   "execution_count": 6,
   "id": "945c0c9e",
   "metadata": {},
   "outputs": [],
   "source": [
    "numerical = ['registration_init_time', 'num_25', 'num_50', 'num_75', 'num_985', 'num_100', 'num_unq', 'total_secs']"
   ]
  },
  {
   "cell_type": "code",
   "execution_count": 7,
   "id": "04a297fe",
   "metadata": {},
   "outputs": [],
   "source": [
    "categorical = ['gender', 'registered_via', 'city']"
   ]
  },
  {
   "cell_type": "code",
   "execution_count": 8,
   "id": "c8ed03da",
   "metadata": {},
   "outputs": [],
   "source": [
    "train_dicts = df_train[categorical + numerical].to_dict(orient='records')\n",
    "val_dicts = df_val[categorical + numerical].to_dict(orient='records')\n",
    "test_dicts = df_test[categorical + numerical].to_dict(orient='records')"
   ]
  },
  {
   "cell_type": "code",
   "execution_count": 9,
   "id": "1f1a2fe2",
   "metadata": {},
   "outputs": [],
   "source": [
    "dv = DictVectorizer(sparse=False)"
   ]
  },
  {
   "cell_type": "code",
   "execution_count": 10,
   "id": "927890a4",
   "metadata": {},
   "outputs": [],
   "source": [
    "X_train = dv.fit_transform(train_dicts)\n",
    "X_val = dv.fit_transform(val_dicts)\n",
    "X_test = dv.fit_transform(test_dicts)"
   ]
  },
  {
   "cell_type": "code",
   "execution_count": 11,
   "id": "b3a158e5",
   "metadata": {},
   "outputs": [
    {
     "data": {
      "text/plain": [
       "['city',\n",
       " 'city=ns',\n",
       " 'gender',\n",
       " 'num_100',\n",
       " 'num_25',\n",
       " 'num_50',\n",
       " 'num_75',\n",
       " 'num_985',\n",
       " 'num_unq',\n",
       " 'registered_via',\n",
       " 'registered_via=ns',\n",
       " 'registration_init_time',\n",
       " 'total_secs']"
      ]
     },
     "execution_count": 11,
     "metadata": {},
     "output_type": "execute_result"
    }
   ],
   "source": [
    "dv.feature_names_"
   ]
  },
  {
   "cell_type": "markdown",
   "id": "77e3d00d",
   "metadata": {},
   "source": [
    "<h2> Training Logistic Regression </h2>"
   ]
  },
  {
   "cell_type": "code",
   "execution_count": 12,
   "id": "f4a89956",
   "metadata": {},
   "outputs": [],
   "source": [
    "from sklearn.linear_model import LogisticRegression"
   ]
  },
  {
   "cell_type": "code",
   "execution_count": 13,
   "id": "bb26871c",
   "metadata": {
    "scrolled": true
   },
   "outputs": [
    {
     "data": {
      "text/plain": [
       "(595758, 595758)"
      ]
     },
     "execution_count": 13,
     "metadata": {},
     "output_type": "execute_result"
    }
   ],
   "source": [
    "len(X_train),len(y_train)"
   ]
  },
  {
   "cell_type": "code",
   "execution_count": 14,
   "id": "2b5dc1a9",
   "metadata": {
    "scrolled": true
   },
   "outputs": [
    {
     "data": {
      "text/plain": [
       "((595758, 13), (595758, 1))"
      ]
     },
     "execution_count": 14,
     "metadata": {},
     "output_type": "execute_result"
    }
   ],
   "source": [
    "X_train.shape, y_train.shape"
   ]
  },
  {
   "cell_type": "code",
   "execution_count": 15,
   "id": "a4a22703",
   "metadata": {},
   "outputs": [
    {
     "data": {
      "text/plain": [
       "((198586, 13), (198586, 1))"
      ]
     },
     "execution_count": 15,
     "metadata": {},
     "output_type": "execute_result"
    }
   ],
   "source": [
    "X_val.shape, y_val.shape"
   ]
  },
  {
   "cell_type": "code",
   "execution_count": 19,
   "id": "b15e7be9",
   "metadata": {},
   "outputs": [],
   "source": [
    "from sklearn.metrics import roc_auc_score"
   ]
  },
  {
   "cell_type": "code",
   "execution_count": 26,
   "id": "0f81d427",
   "metadata": {
    "scrolled": true
   },
   "outputs": [
    {
     "name": "stderr",
     "output_type": "stream",
     "text": [
      "/Users/sarveshthakur/anaconda3/envs/exp-tracking-env/lib/python3.9/site-packages/sklearn/utils/validation.py:1143: DataConversionWarning: A column-vector y was passed when a 1d array was expected. Please change the shape of y to (n_samples, ), for example using ravel().\n",
      "  y = column_or_1d(y, warn=True)\n",
      "/Users/sarveshthakur/anaconda3/envs/exp-tracking-env/lib/python3.9/site-packages/sklearn/metrics/_classification.py:1344: UndefinedMetricWarning: Precision is ill-defined and being set to 0.0 in labels with no predicted samples. Use `zero_division` parameter to control this behavior.\n",
      "  _warn_prf(average, modifier, msg_start, len(result))\n"
     ]
    }
   ],
   "source": [
    "mlflow.sklearn.autolog()\n",
    "\n",
    "#run = mlflow.active_run()\n",
    "#if(run.info.status == 'RUNNING'):\n",
    "#    mlflow.end_run()\n",
    "\n",
    "with mlflow.start_run():\n",
    "    mlflow.set_tag(\"developer\", \"st\")\n",
    "\n",
    "    model = LogisticRegression()\n",
    "    model.fit(X_train, y_train)\n",
    "\n",
    "    y_pred = model.predict(X_val)\n",
    "    score = roc_auc_score(y_val, y_pred)\n",
    "# score\n",
    "\n",
    "    y_pred = model.predict(X_test)\n",
    "    score = roc_auc_score(y_test, y_pred)\n",
    "\n",
    "    mlflow.log_metric(\"roc_auc_score\", score)\n",
    "\n",
    "mlflow.end_run()"
   ]
  },
  {
   "cell_type": "markdown",
   "id": "db37f044",
   "metadata": {},
   "source": [
    "<h3> Logistic Regression Model Prediction on validation data </h3>"
   ]
  },
  {
   "cell_type": "code",
   "execution_count": 139,
   "id": "0cfbe268",
   "metadata": {},
   "outputs": [],
   "source": [
    "y_pred = model.predict(X_val)"
   ]
  },
  {
   "cell_type": "code",
   "execution_count": 123,
   "id": "f97f323a",
   "metadata": {},
   "outputs": [
    {
     "data": {
      "text/plain": [
       "array([[0.5       , 0.5       ],\n",
       "       [0.92769234, 0.07230766],\n",
       "       [0.97051756, 0.02948244],\n",
       "       ...,\n",
       "       [0.98991972, 0.01008028],\n",
       "       [0.89549084, 0.10450916],\n",
       "       [0.95012366, 0.04987634]])"
      ]
     },
     "execution_count": 123,
     "metadata": {},
     "output_type": "execute_result"
    }
   ],
   "source": [
    "model.predict_proba(X_val)"
   ]
  },
  {
   "cell_type": "code",
   "execution_count": 124,
   "id": "6b16242a",
   "metadata": {},
   "outputs": [
    {
     "data": {
      "text/plain": [
       "array([0.5       , 0.07230766, 0.02948244, ..., 0.01008028, 0.10450916,\n",
       "       0.04987634])"
      ]
     },
     "execution_count": 124,
     "metadata": {},
     "output_type": "execute_result"
    }
   ],
   "source": [
    "y_pred = model.predict_proba(X_val)[:, 1]\n",
    "y_pred"
   ]
  },
  {
   "cell_type": "code",
   "execution_count": 125,
   "id": "1cab5044",
   "metadata": {},
   "outputs": [],
   "source": [
    "churn_decision = (y_pred >= 0.49)"
   ]
  },
  {
   "cell_type": "code",
   "execution_count": 126,
   "id": "f035a0a8",
   "metadata": {},
   "outputs": [
    {
     "data": {
      "text/html": [
       "<div>\n",
       "<style scoped>\n",
       "    .dataframe tbody tr th:only-of-type {\n",
       "        vertical-align: middle;\n",
       "    }\n",
       "\n",
       "    .dataframe tbody tr th {\n",
       "        vertical-align: top;\n",
       "    }\n",
       "\n",
       "    .dataframe thead th {\n",
       "        text-align: right;\n",
       "    }\n",
       "</style>\n",
       "<table border=\"1\" class=\"dataframe\">\n",
       "  <thead>\n",
       "    <tr style=\"text-align: right;\">\n",
       "      <th></th>\n",
       "      <th>msno</th>\n",
       "      <th>city</th>\n",
       "      <th>gender</th>\n",
       "      <th>registered_via</th>\n",
       "      <th>registration_init_time</th>\n",
       "      <th>date</th>\n",
       "      <th>num_25</th>\n",
       "      <th>num_50</th>\n",
       "      <th>num_75</th>\n",
       "      <th>num_985</th>\n",
       "      <th>num_100</th>\n",
       "      <th>num_unq</th>\n",
       "      <th>total_secs</th>\n",
       "    </tr>\n",
       "  </thead>\n",
       "  <tbody>\n",
       "    <tr>\n",
       "      <th>0</th>\n",
       "      <td>6mSj0Fs+oeIIg9dvcYaZ53sxFOnBsktVQlb+qBd0coc=</td>\n",
       "      <td>ns</td>\n",
       "      <td>0.0</td>\n",
       "      <td>ns</td>\n",
       "      <td>0.0</td>\n",
       "      <td>NaN</td>\n",
       "      <td>0.0</td>\n",
       "      <td>0.0</td>\n",
       "      <td>0.0</td>\n",
       "      <td>0.0</td>\n",
       "      <td>0.0</td>\n",
       "      <td>0.0</td>\n",
       "      <td>0.0</td>\n",
       "    </tr>\n",
       "    <tr>\n",
       "      <th>13</th>\n",
       "      <td>mZQor4G6jYCC9eRmqkncpTb0M+159r8P8da1m6yxgmI=</td>\n",
       "      <td>ns</td>\n",
       "      <td>0.0</td>\n",
       "      <td>ns</td>\n",
       "      <td>0.0</td>\n",
       "      <td>NaN</td>\n",
       "      <td>0.0</td>\n",
       "      <td>0.0</td>\n",
       "      <td>0.0</td>\n",
       "      <td>0.0</td>\n",
       "      <td>0.0</td>\n",
       "      <td>0.0</td>\n",
       "      <td>0.0</td>\n",
       "    </tr>\n",
       "    <tr>\n",
       "      <th>14</th>\n",
       "      <td>y351ihBgxdWoDLpESqYBg1/dvTvHgWa1JYruQaB5B6c=</td>\n",
       "      <td>ns</td>\n",
       "      <td>0.0</td>\n",
       "      <td>ns</td>\n",
       "      <td>0.0</td>\n",
       "      <td>NaN</td>\n",
       "      <td>0.0</td>\n",
       "      <td>0.0</td>\n",
       "      <td>0.0</td>\n",
       "      <td>0.0</td>\n",
       "      <td>0.0</td>\n",
       "      <td>0.0</td>\n",
       "      <td>0.0</td>\n",
       "    </tr>\n",
       "    <tr>\n",
       "      <th>17</th>\n",
       "      <td>5smXFx7PUuzHncs1GDZwFModKyGePcHhcET+HTn30Ao=</td>\n",
       "      <td>ns</td>\n",
       "      <td>0.0</td>\n",
       "      <td>ns</td>\n",
       "      <td>0.0</td>\n",
       "      <td>NaN</td>\n",
       "      <td>0.0</td>\n",
       "      <td>0.0</td>\n",
       "      <td>0.0</td>\n",
       "      <td>0.0</td>\n",
       "      <td>0.0</td>\n",
       "      <td>0.0</td>\n",
       "      <td>0.0</td>\n",
       "    </tr>\n",
       "    <tr>\n",
       "      <th>18</th>\n",
       "      <td>aNcW+YeoIbuoVYp3zXhc9J045wkELHQFoEM+RNCjeKI=</td>\n",
       "      <td>ns</td>\n",
       "      <td>0.0</td>\n",
       "      <td>ns</td>\n",
       "      <td>0.0</td>\n",
       "      <td>NaN</td>\n",
       "      <td>0.0</td>\n",
       "      <td>0.0</td>\n",
       "      <td>0.0</td>\n",
       "      <td>0.0</td>\n",
       "      <td>0.0</td>\n",
       "      <td>0.0</td>\n",
       "      <td>0.0</td>\n",
       "    </tr>\n",
       "    <tr>\n",
       "      <th>...</th>\n",
       "      <td>...</td>\n",
       "      <td>...</td>\n",
       "      <td>...</td>\n",
       "      <td>...</td>\n",
       "      <td>...</td>\n",
       "      <td>...</td>\n",
       "      <td>...</td>\n",
       "      <td>...</td>\n",
       "      <td>...</td>\n",
       "      <td>...</td>\n",
       "      <td>...</td>\n",
       "      <td>...</td>\n",
       "      <td>...</td>\n",
       "    </tr>\n",
       "    <tr>\n",
       "      <th>198514</th>\n",
       "      <td>gQ9XngR84x1GNpjdTx/sJWVvXigxR/CRuyNRKw+6nww=</td>\n",
       "      <td>ns</td>\n",
       "      <td>0.0</td>\n",
       "      <td>ns</td>\n",
       "      <td>0.0</td>\n",
       "      <td>NaN</td>\n",
       "      <td>0.0</td>\n",
       "      <td>0.0</td>\n",
       "      <td>0.0</td>\n",
       "      <td>0.0</td>\n",
       "      <td>0.0</td>\n",
       "      <td>0.0</td>\n",
       "      <td>0.0</td>\n",
       "    </tr>\n",
       "    <tr>\n",
       "      <th>198527</th>\n",
       "      <td>yJ98WpkTrzUhB2TT38l3ao5hWNkg4mkEEBK1cww+yGU=</td>\n",
       "      <td>ns</td>\n",
       "      <td>0.0</td>\n",
       "      <td>ns</td>\n",
       "      <td>0.0</td>\n",
       "      <td>NaN</td>\n",
       "      <td>0.0</td>\n",
       "      <td>0.0</td>\n",
       "      <td>0.0</td>\n",
       "      <td>0.0</td>\n",
       "      <td>0.0</td>\n",
       "      <td>0.0</td>\n",
       "      <td>0.0</td>\n",
       "    </tr>\n",
       "    <tr>\n",
       "      <th>198537</th>\n",
       "      <td>2W+1Lu9mCAh2iQA9HvW/s4sSi2BxFwJCFfOzUv0NpGg=</td>\n",
       "      <td>ns</td>\n",
       "      <td>0.0</td>\n",
       "      <td>ns</td>\n",
       "      <td>0.0</td>\n",
       "      <td>NaN</td>\n",
       "      <td>0.0</td>\n",
       "      <td>0.0</td>\n",
       "      <td>0.0</td>\n",
       "      <td>0.0</td>\n",
       "      <td>0.0</td>\n",
       "      <td>0.0</td>\n",
       "      <td>0.0</td>\n",
       "    </tr>\n",
       "    <tr>\n",
       "      <th>198539</th>\n",
       "      <td>zbdwhel4lrh3PnKEVzl4pCAL3mESiCX0bcLzu+A0MPw=</td>\n",
       "      <td>ns</td>\n",
       "      <td>0.0</td>\n",
       "      <td>ns</td>\n",
       "      <td>0.0</td>\n",
       "      <td>NaN</td>\n",
       "      <td>0.0</td>\n",
       "      <td>0.0</td>\n",
       "      <td>0.0</td>\n",
       "      <td>0.0</td>\n",
       "      <td>0.0</td>\n",
       "      <td>0.0</td>\n",
       "      <td>0.0</td>\n",
       "    </tr>\n",
       "    <tr>\n",
       "      <th>198570</th>\n",
       "      <td>uDxALt86qpPrhwZLzZWhZb8UNcIbhHk9FV1RT4qXF5I=</td>\n",
       "      <td>ns</td>\n",
       "      <td>0.0</td>\n",
       "      <td>ns</td>\n",
       "      <td>0.0</td>\n",
       "      <td>NaN</td>\n",
       "      <td>0.0</td>\n",
       "      <td>0.0</td>\n",
       "      <td>0.0</td>\n",
       "      <td>0.0</td>\n",
       "      <td>0.0</td>\n",
       "      <td>0.0</td>\n",
       "      <td>0.0</td>\n",
       "    </tr>\n",
       "  </tbody>\n",
       "</table>\n",
       "<p>23056 rows × 13 columns</p>\n",
       "</div>"
      ],
      "text/plain": [
       "                                                msno city  gender   \n",
       "0       6mSj0Fs+oeIIg9dvcYaZ53sxFOnBsktVQlb+qBd0coc=   ns     0.0  \\\n",
       "13      mZQor4G6jYCC9eRmqkncpTb0M+159r8P8da1m6yxgmI=   ns     0.0   \n",
       "14      y351ihBgxdWoDLpESqYBg1/dvTvHgWa1JYruQaB5B6c=   ns     0.0   \n",
       "17      5smXFx7PUuzHncs1GDZwFModKyGePcHhcET+HTn30Ao=   ns     0.0   \n",
       "18      aNcW+YeoIbuoVYp3zXhc9J045wkELHQFoEM+RNCjeKI=   ns     0.0   \n",
       "...                                              ...  ...     ...   \n",
       "198514  gQ9XngR84x1GNpjdTx/sJWVvXigxR/CRuyNRKw+6nww=   ns     0.0   \n",
       "198527  yJ98WpkTrzUhB2TT38l3ao5hWNkg4mkEEBK1cww+yGU=   ns     0.0   \n",
       "198537  2W+1Lu9mCAh2iQA9HvW/s4sSi2BxFwJCFfOzUv0NpGg=   ns     0.0   \n",
       "198539  zbdwhel4lrh3PnKEVzl4pCAL3mESiCX0bcLzu+A0MPw=   ns     0.0   \n",
       "198570  uDxALt86qpPrhwZLzZWhZb8UNcIbhHk9FV1RT4qXF5I=   ns     0.0   \n",
       "\n",
       "       registered_via  registration_init_time date  num_25  num_50  num_75   \n",
       "0                  ns                     0.0  NaN     0.0     0.0     0.0  \\\n",
       "13                 ns                     0.0  NaN     0.0     0.0     0.0   \n",
       "14                 ns                     0.0  NaN     0.0     0.0     0.0   \n",
       "17                 ns                     0.0  NaN     0.0     0.0     0.0   \n",
       "18                 ns                     0.0  NaN     0.0     0.0     0.0   \n",
       "...               ...                     ...  ...     ...     ...     ...   \n",
       "198514             ns                     0.0  NaN     0.0     0.0     0.0   \n",
       "198527             ns                     0.0  NaN     0.0     0.0     0.0   \n",
       "198537             ns                     0.0  NaN     0.0     0.0     0.0   \n",
       "198539             ns                     0.0  NaN     0.0     0.0     0.0   \n",
       "198570             ns                     0.0  NaN     0.0     0.0     0.0   \n",
       "\n",
       "        num_985  num_100  num_unq  total_secs  \n",
       "0           0.0      0.0      0.0         0.0  \n",
       "13          0.0      0.0      0.0         0.0  \n",
       "14          0.0      0.0      0.0         0.0  \n",
       "17          0.0      0.0      0.0         0.0  \n",
       "18          0.0      0.0      0.0         0.0  \n",
       "...         ...      ...      ...         ...  \n",
       "198514      0.0      0.0      0.0         0.0  \n",
       "198527      0.0      0.0      0.0         0.0  \n",
       "198537      0.0      0.0      0.0         0.0  \n",
       "198539      0.0      0.0      0.0         0.0  \n",
       "198570      0.0      0.0      0.0         0.0  \n",
       "\n",
       "[23056 rows x 13 columns]"
      ]
     },
     "execution_count": 126,
     "metadata": {},
     "output_type": "execute_result"
    }
   ],
   "source": [
    "df_val[churn_decision]"
   ]
  },
  {
   "cell_type": "code",
   "execution_count": 127,
   "id": "a5778c0c",
   "metadata": {},
   "outputs": [],
   "source": [
    "df_pred = pd.DataFrame()\n",
    "df_pred['probability'] = y_pred\n",
    "df_pred['prediction'] = churn_decision.astype(int)\n",
    "df_pred['actual'] = y_train\n"
   ]
  },
  {
   "cell_type": "code",
   "execution_count": 128,
   "id": "0e2aec60",
   "metadata": {},
   "outputs": [
    {
     "data": {
      "text/html": [
       "<div>\n",
       "<style scoped>\n",
       "    .dataframe tbody tr th:only-of-type {\n",
       "        vertical-align: middle;\n",
       "    }\n",
       "\n",
       "    .dataframe tbody tr th {\n",
       "        vertical-align: top;\n",
       "    }\n",
       "\n",
       "    .dataframe thead th {\n",
       "        text-align: right;\n",
       "    }\n",
       "</style>\n",
       "<table border=\"1\" class=\"dataframe\">\n",
       "  <thead>\n",
       "    <tr style=\"text-align: right;\">\n",
       "      <th></th>\n",
       "      <th>probability</th>\n",
       "      <th>prediction</th>\n",
       "      <th>actual</th>\n",
       "    </tr>\n",
       "  </thead>\n",
       "  <tbody>\n",
       "    <tr>\n",
       "      <th>0</th>\n",
       "      <td>0.500000</td>\n",
       "      <td>1</td>\n",
       "      <td>0</td>\n",
       "    </tr>\n",
       "    <tr>\n",
       "      <th>1</th>\n",
       "      <td>0.072308</td>\n",
       "      <td>0</td>\n",
       "      <td>0</td>\n",
       "    </tr>\n",
       "    <tr>\n",
       "      <th>2</th>\n",
       "      <td>0.029482</td>\n",
       "      <td>0</td>\n",
       "      <td>0</td>\n",
       "    </tr>\n",
       "    <tr>\n",
       "      <th>3</th>\n",
       "      <td>0.079215</td>\n",
       "      <td>0</td>\n",
       "      <td>0</td>\n",
       "    </tr>\n",
       "    <tr>\n",
       "      <th>4</th>\n",
       "      <td>0.071943</td>\n",
       "      <td>0</td>\n",
       "      <td>0</td>\n",
       "    </tr>\n",
       "    <tr>\n",
       "      <th>...</th>\n",
       "      <td>...</td>\n",
       "      <td>...</td>\n",
       "      <td>...</td>\n",
       "    </tr>\n",
       "    <tr>\n",
       "      <th>198581</th>\n",
       "      <td>0.035046</td>\n",
       "      <td>0</td>\n",
       "      <td>0</td>\n",
       "    </tr>\n",
       "    <tr>\n",
       "      <th>198582</th>\n",
       "      <td>0.097451</td>\n",
       "      <td>0</td>\n",
       "      <td>0</td>\n",
       "    </tr>\n",
       "    <tr>\n",
       "      <th>198583</th>\n",
       "      <td>0.010080</td>\n",
       "      <td>0</td>\n",
       "      <td>0</td>\n",
       "    </tr>\n",
       "    <tr>\n",
       "      <th>198584</th>\n",
       "      <td>0.104509</td>\n",
       "      <td>0</td>\n",
       "      <td>0</td>\n",
       "    </tr>\n",
       "    <tr>\n",
       "      <th>198585</th>\n",
       "      <td>0.049876</td>\n",
       "      <td>0</td>\n",
       "      <td>0</td>\n",
       "    </tr>\n",
       "  </tbody>\n",
       "</table>\n",
       "<p>198586 rows × 3 columns</p>\n",
       "</div>"
      ],
      "text/plain": [
       "        probability  prediction  actual\n",
       "0          0.500000           1       0\n",
       "1          0.072308           0       0\n",
       "2          0.029482           0       0\n",
       "3          0.079215           0       0\n",
       "4          0.071943           0       0\n",
       "...             ...         ...     ...\n",
       "198581     0.035046           0       0\n",
       "198582     0.097451           0       0\n",
       "198583     0.010080           0       0\n",
       "198584     0.104509           0       0\n",
       "198585     0.049876           0       0\n",
       "\n",
       "[198586 rows x 3 columns]"
      ]
     },
     "execution_count": 128,
     "metadata": {},
     "output_type": "execute_result"
    }
   ],
   "source": [
    "df_pred"
   ]
  },
  {
   "cell_type": "code",
   "execution_count": 129,
   "id": "9011ce9f",
   "metadata": {},
   "outputs": [],
   "source": [
    "df_pred['correct'] = df_pred.prediction == df_pred.actual"
   ]
  },
  {
   "cell_type": "code",
   "execution_count": 130,
   "id": "f522ad71",
   "metadata": {},
   "outputs": [
    {
     "data": {
      "text/plain": [
       "0.8342330275044565"
      ]
     },
     "execution_count": 130,
     "metadata": {},
     "output_type": "execute_result"
    }
   ],
   "source": [
    "df_pred.correct.mean()"
   ]
  },
  {
   "cell_type": "code",
   "execution_count": 23,
   "id": "256b4461",
   "metadata": {},
   "outputs": [
    {
     "data": {
      "text/plain": [
       "0.5"
      ]
     },
     "execution_count": 23,
     "metadata": {},
     "output_type": "execute_result"
    }
   ],
   "source": [
    "y_pred = model.predict(X_train)\n",
    "score = roc_auc_score(y_train, y_pred)\n",
    "score"
   ]
  },
  {
   "cell_type": "code",
   "execution_count": 131,
   "id": "e9b530b4",
   "metadata": {},
   "outputs": [],
   "source": [
    "from sklearn.metrics import roc_auc_score"
   ]
  },
  {
   "cell_type": "markdown",
   "id": "e9c2b045",
   "metadata": {},
   "source": [
    "<h3> Model evaluation on validation data </h3>"
   ]
  },
  {
   "cell_type": "code",
   "execution_count": 141,
   "id": "f04af1a0",
   "metadata": {},
   "outputs": [
    {
     "data": {
      "text/plain": [
       "0.5"
      ]
     },
     "execution_count": 141,
     "metadata": {},
     "output_type": "execute_result"
    }
   ],
   "source": [
    "score = roc_auc_score(y_val, y_pred)\n",
    "score"
   ]
  },
  {
   "cell_type": "markdown",
   "id": "81baa64a",
   "metadata": {},
   "source": [
    "<h3> Model evaluation on test data </h3>"
   ]
  },
  {
   "cell_type": "code",
   "execution_count": 142,
   "id": "56cc91f4",
   "metadata": {},
   "outputs": [],
   "source": [
    "y_pred = model.predict(X_test)"
   ]
  },
  {
   "cell_type": "code",
   "execution_count": 143,
   "id": "c4611c4f",
   "metadata": {},
   "outputs": [
    {
     "data": {
      "text/plain": [
       "0.5"
      ]
     },
     "execution_count": 143,
     "metadata": {},
     "output_type": "execute_result"
    }
   ],
   "source": [
    "score = roc_auc_score(y_test, y_pred)\n",
    "score"
   ]
  },
  {
   "cell_type": "markdown",
   "id": "c1cc6c2f",
   "metadata": {},
   "source": [
    "<h2> Training Random Forest</h2>"
   ]
  },
  {
   "cell_type": "code",
   "execution_count": 144,
   "id": "18ecac5b",
   "metadata": {},
   "outputs": [],
   "source": [
    "from sklearn.ensemble import RandomForestClassifier"
   ]
  },
  {
   "cell_type": "code",
   "execution_count": 145,
   "id": "52ec1224",
   "metadata": {},
   "outputs": [],
   "source": [
    "rf = RandomForestClassifier()"
   ]
  },
  {
   "cell_type": "code",
   "execution_count": 146,
   "id": "4a0433c6",
   "metadata": {},
   "outputs": [
    {
     "data": {
      "text/html": [
       "<style>#sk-container-id-7 {color: black;background-color: white;}#sk-container-id-7 pre{padding: 0;}#sk-container-id-7 div.sk-toggleable {background-color: white;}#sk-container-id-7 label.sk-toggleable__label {cursor: pointer;display: block;width: 100%;margin-bottom: 0;padding: 0.3em;box-sizing: border-box;text-align: center;}#sk-container-id-7 label.sk-toggleable__label-arrow:before {content: \"▸\";float: left;margin-right: 0.25em;color: #696969;}#sk-container-id-7 label.sk-toggleable__label-arrow:hover:before {color: black;}#sk-container-id-7 div.sk-estimator:hover label.sk-toggleable__label-arrow:before {color: black;}#sk-container-id-7 div.sk-toggleable__content {max-height: 0;max-width: 0;overflow: hidden;text-align: left;background-color: #f0f8ff;}#sk-container-id-7 div.sk-toggleable__content pre {margin: 0.2em;color: black;border-radius: 0.25em;background-color: #f0f8ff;}#sk-container-id-7 input.sk-toggleable__control:checked~div.sk-toggleable__content {max-height: 200px;max-width: 100%;overflow: auto;}#sk-container-id-7 input.sk-toggleable__control:checked~label.sk-toggleable__label-arrow:before {content: \"▾\";}#sk-container-id-7 div.sk-estimator input.sk-toggleable__control:checked~label.sk-toggleable__label {background-color: #d4ebff;}#sk-container-id-7 div.sk-label input.sk-toggleable__control:checked~label.sk-toggleable__label {background-color: #d4ebff;}#sk-container-id-7 input.sk-hidden--visually {border: 0;clip: rect(1px 1px 1px 1px);clip: rect(1px, 1px, 1px, 1px);height: 1px;margin: -1px;overflow: hidden;padding: 0;position: absolute;width: 1px;}#sk-container-id-7 div.sk-estimator {font-family: monospace;background-color: #f0f8ff;border: 1px dotted black;border-radius: 0.25em;box-sizing: border-box;margin-bottom: 0.5em;}#sk-container-id-7 div.sk-estimator:hover {background-color: #d4ebff;}#sk-container-id-7 div.sk-parallel-item::after {content: \"\";width: 100%;border-bottom: 1px solid gray;flex-grow: 1;}#sk-container-id-7 div.sk-label:hover label.sk-toggleable__label {background-color: #d4ebff;}#sk-container-id-7 div.sk-serial::before {content: \"\";position: absolute;border-left: 1px solid gray;box-sizing: border-box;top: 0;bottom: 0;left: 50%;z-index: 0;}#sk-container-id-7 div.sk-serial {display: flex;flex-direction: column;align-items: center;background-color: white;padding-right: 0.2em;padding-left: 0.2em;position: relative;}#sk-container-id-7 div.sk-item {position: relative;z-index: 1;}#sk-container-id-7 div.sk-parallel {display: flex;align-items: stretch;justify-content: center;background-color: white;position: relative;}#sk-container-id-7 div.sk-item::before, #sk-container-id-7 div.sk-parallel-item::before {content: \"\";position: absolute;border-left: 1px solid gray;box-sizing: border-box;top: 0;bottom: 0;left: 50%;z-index: -1;}#sk-container-id-7 div.sk-parallel-item {display: flex;flex-direction: column;z-index: 1;position: relative;background-color: white;}#sk-container-id-7 div.sk-parallel-item:first-child::after {align-self: flex-end;width: 50%;}#sk-container-id-7 div.sk-parallel-item:last-child::after {align-self: flex-start;width: 50%;}#sk-container-id-7 div.sk-parallel-item:only-child::after {width: 0;}#sk-container-id-7 div.sk-dashed-wrapped {border: 1px dashed gray;margin: 0 0.4em 0.5em 0.4em;box-sizing: border-box;padding-bottom: 0.4em;background-color: white;}#sk-container-id-7 div.sk-label label {font-family: monospace;font-weight: bold;display: inline-block;line-height: 1.2em;}#sk-container-id-7 div.sk-label-container {text-align: center;}#sk-container-id-7 div.sk-container {/* jupyter's `normalize.less` sets `[hidden] { display: none; }` but bootstrap.min.css set `[hidden] { display: none !important; }` so we also need the `!important` here to be able to override the default hidden behavior on the sphinx rendered scikit-learn.org. See: https://github.com/scikit-learn/scikit-learn/issues/21755 */display: inline-block !important;position: relative;}#sk-container-id-7 div.sk-text-repr-fallback {display: none;}</style><div id=\"sk-container-id-7\" class=\"sk-top-container\"><div class=\"sk-text-repr-fallback\"><pre>RandomForestClassifier()</pre><b>In a Jupyter environment, please rerun this cell to show the HTML representation or trust the notebook. <br />On GitHub, the HTML representation is unable to render, please try loading this page with nbviewer.org.</b></div><div class=\"sk-container\" hidden><div class=\"sk-item\"><div class=\"sk-estimator sk-toggleable\"><input class=\"sk-toggleable__control sk-hidden--visually\" id=\"sk-estimator-id-7\" type=\"checkbox\" checked><label for=\"sk-estimator-id-7\" class=\"sk-toggleable__label sk-toggleable__label-arrow\">RandomForestClassifier</label><div class=\"sk-toggleable__content\"><pre>RandomForestClassifier()</pre></div></div></div></div></div>"
      ],
      "text/plain": [
       "RandomForestClassifier()"
      ]
     },
     "execution_count": 146,
     "metadata": {},
     "output_type": "execute_result"
    }
   ],
   "source": [
    "rf.fit(X_train, y_train.values.ravel())"
   ]
  },
  {
   "cell_type": "code",
   "execution_count": 147,
   "id": "021f33e0",
   "metadata": {},
   "outputs": [],
   "source": [
    "y_pred = rf.predict(X_train)"
   ]
  },
  {
   "cell_type": "code",
   "execution_count": 148,
   "id": "08cb8115",
   "metadata": {},
   "outputs": [
    {
     "data": {
      "text/plain": [
       "0.8602065888937045"
      ]
     },
     "execution_count": 148,
     "metadata": {},
     "output_type": "execute_result"
    }
   ],
   "source": [
    "score = roc_auc_score(y_train, y_pred)\n",
    "score"
   ]
  },
  {
   "cell_type": "markdown",
   "id": "8672b247",
   "metadata": {},
   "source": [
    "<h3> Model evaluation on validation data </h3>"
   ]
  },
  {
   "cell_type": "code",
   "execution_count": 149,
   "id": "1738345a",
   "metadata": {},
   "outputs": [],
   "source": [
    "y_pred = rf.predict(X_val)"
   ]
  },
  {
   "cell_type": "code",
   "execution_count": 150,
   "id": "9047a7a0",
   "metadata": {},
   "outputs": [
    {
     "data": {
      "text/plain": [
       "0.6311941667682298"
      ]
     },
     "execution_count": 150,
     "metadata": {},
     "output_type": "execute_result"
    }
   ],
   "source": [
    "score = roc_auc_score(y_val, y_pred)\n",
    "score"
   ]
  },
  {
   "cell_type": "markdown",
   "id": "0511cc8d",
   "metadata": {},
   "source": [
    "<h3> Model evaluation on test data </h3>"
   ]
  },
  {
   "cell_type": "code",
   "execution_count": 151,
   "id": "55d7532b",
   "metadata": {},
   "outputs": [],
   "source": [
    "y_pred = rf.predict(X_test)"
   ]
  },
  {
   "cell_type": "code",
   "execution_count": 152,
   "id": "b61cfd63",
   "metadata": {},
   "outputs": [
    {
     "data": {
      "text/plain": [
       "0.6288367751524799"
      ]
     },
     "execution_count": 152,
     "metadata": {},
     "output_type": "execute_result"
    }
   ],
   "source": [
    "score = roc_auc_score(y_test, y_pred)\n",
    "score"
   ]
  },
  {
   "cell_type": "markdown",
   "id": "41314ac6",
   "metadata": {},
   "source": [
    "<h2> Training LightGBM </h2>"
   ]
  },
  {
   "cell_type": "code",
   "execution_count": 85,
   "id": "7c864894",
   "metadata": {},
   "outputs": [],
   "source": [
    "from lightgbm import LGBMClassifier"
   ]
  },
  {
   "cell_type": "code",
   "execution_count": 86,
   "id": "802ba16b",
   "metadata": {},
   "outputs": [],
   "source": [
    "lgbm = LGBMClassifier()"
   ]
  },
  {
   "cell_type": "code",
   "execution_count": 70,
   "id": "eef5f4f0",
   "metadata": {
    "scrolled": false
   },
   "outputs": [
    {
     "name": "stderr",
     "output_type": "stream",
     "text": [
      "2023/08/16 12:16:19 WARNING mlflow.utils.autologging_utils: You are using an unsupported version of lightgbm. If you encounter errors during autologging, try upgrading / downgrading lightgbm to a supported version, or try upgrading MLflow.\n",
      "/Users/sarveshthakur/anaconda3/envs/exp-tracking-env/lib/python3.9/site-packages/sklearn/preprocessing/_label.py:99: DataConversionWarning: A column-vector y was passed when a 1d array was expected. Please change the shape of y to (n_samples, ), for example using ravel().\n",
      "  y = column_or_1d(y, warn=True)\n",
      "/Users/sarveshthakur/anaconda3/envs/exp-tracking-env/lib/python3.9/site-packages/sklearn/preprocessing/_label.py:134: DataConversionWarning: A column-vector y was passed when a 1d array was expected. Please change the shape of y to (n_samples, ), for example using ravel().\n",
      "  y = column_or_1d(y, dtype=self.classes_.dtype, warn=True)\n",
      "/Users/sarveshthakur/anaconda3/envs/exp-tracking-env/lib/python3.9/site-packages/sklearn/preprocessing/_label.py:134: DataConversionWarning: A column-vector y was passed when a 1d array was expected. Please change the shape of y to (n_samples, ), for example using ravel().\n",
      "  y = column_or_1d(y, dtype=self.classes_.dtype, warn=True)\n"
     ]
    },
    {
     "name": "stdout",
     "output_type": "stream",
     "text": [
      "[LightGBM] [Info] Number of positive: 37966, number of negative: 557792\n",
      "[LightGBM] [Warning] Auto-choosing row-wise multi-threading, the overhead of testing was 0.004183 seconds.\n",
      "You can set `force_row_wise=true` to remove the overhead.\n",
      "And if memory is not enough, you can set `force_col_wise=true`.\n",
      "[LightGBM] [Info] Total Bins 2075\n",
      "[LightGBM] [Info] Number of data points in the train set: 595758, number of used features: 13\n",
      "[LightGBM] [Info] [binary:BoostFromScore]: pavg=0.063727 -> initscore=-2.687295\n",
      "[LightGBM] [Info] Start training from score -2.687295\n"
     ]
    },
    {
     "name": "stderr",
     "output_type": "stream",
     "text": [
      "2023/08/16 12:16:23 WARNING mlflow.models.model: Logging model metadata to the tracking server has failed. The model artifacts have been logged successfully under /Users/sarveshthakur/Documents/MLOps Zoomcamp/datasets/mlruns/1/77303e4eddd148f1ba4b4a0a5cadead2/artifacts. Set logging level to DEBUG via `logging.getLogger(\"mlflow\").setLevel(logging.DEBUG)` to see the full traceback.\n"
     ]
    },
    {
     "data": {
      "text/html": [
       "<style>#sk-container-id-5 {color: black;background-color: white;}#sk-container-id-5 pre{padding: 0;}#sk-container-id-5 div.sk-toggleable {background-color: white;}#sk-container-id-5 label.sk-toggleable__label {cursor: pointer;display: block;width: 100%;margin-bottom: 0;padding: 0.3em;box-sizing: border-box;text-align: center;}#sk-container-id-5 label.sk-toggleable__label-arrow:before {content: \"▸\";float: left;margin-right: 0.25em;color: #696969;}#sk-container-id-5 label.sk-toggleable__label-arrow:hover:before {color: black;}#sk-container-id-5 div.sk-estimator:hover label.sk-toggleable__label-arrow:before {color: black;}#sk-container-id-5 div.sk-toggleable__content {max-height: 0;max-width: 0;overflow: hidden;text-align: left;background-color: #f0f8ff;}#sk-container-id-5 div.sk-toggleable__content pre {margin: 0.2em;color: black;border-radius: 0.25em;background-color: #f0f8ff;}#sk-container-id-5 input.sk-toggleable__control:checked~div.sk-toggleable__content {max-height: 200px;max-width: 100%;overflow: auto;}#sk-container-id-5 input.sk-toggleable__control:checked~label.sk-toggleable__label-arrow:before {content: \"▾\";}#sk-container-id-5 div.sk-estimator input.sk-toggleable__control:checked~label.sk-toggleable__label {background-color: #d4ebff;}#sk-container-id-5 div.sk-label input.sk-toggleable__control:checked~label.sk-toggleable__label {background-color: #d4ebff;}#sk-container-id-5 input.sk-hidden--visually {border: 0;clip: rect(1px 1px 1px 1px);clip: rect(1px, 1px, 1px, 1px);height: 1px;margin: -1px;overflow: hidden;padding: 0;position: absolute;width: 1px;}#sk-container-id-5 div.sk-estimator {font-family: monospace;background-color: #f0f8ff;border: 1px dotted black;border-radius: 0.25em;box-sizing: border-box;margin-bottom: 0.5em;}#sk-container-id-5 div.sk-estimator:hover {background-color: #d4ebff;}#sk-container-id-5 div.sk-parallel-item::after {content: \"\";width: 100%;border-bottom: 1px solid gray;flex-grow: 1;}#sk-container-id-5 div.sk-label:hover label.sk-toggleable__label {background-color: #d4ebff;}#sk-container-id-5 div.sk-serial::before {content: \"\";position: absolute;border-left: 1px solid gray;box-sizing: border-box;top: 0;bottom: 0;left: 50%;z-index: 0;}#sk-container-id-5 div.sk-serial {display: flex;flex-direction: column;align-items: center;background-color: white;padding-right: 0.2em;padding-left: 0.2em;position: relative;}#sk-container-id-5 div.sk-item {position: relative;z-index: 1;}#sk-container-id-5 div.sk-parallel {display: flex;align-items: stretch;justify-content: center;background-color: white;position: relative;}#sk-container-id-5 div.sk-item::before, #sk-container-id-5 div.sk-parallel-item::before {content: \"\";position: absolute;border-left: 1px solid gray;box-sizing: border-box;top: 0;bottom: 0;left: 50%;z-index: -1;}#sk-container-id-5 div.sk-parallel-item {display: flex;flex-direction: column;z-index: 1;position: relative;background-color: white;}#sk-container-id-5 div.sk-parallel-item:first-child::after {align-self: flex-end;width: 50%;}#sk-container-id-5 div.sk-parallel-item:last-child::after {align-self: flex-start;width: 50%;}#sk-container-id-5 div.sk-parallel-item:only-child::after {width: 0;}#sk-container-id-5 div.sk-dashed-wrapped {border: 1px dashed gray;margin: 0 0.4em 0.5em 0.4em;box-sizing: border-box;padding-bottom: 0.4em;background-color: white;}#sk-container-id-5 div.sk-label label {font-family: monospace;font-weight: bold;display: inline-block;line-height: 1.2em;}#sk-container-id-5 div.sk-label-container {text-align: center;}#sk-container-id-5 div.sk-container {/* jupyter's `normalize.less` sets `[hidden] { display: none; }` but bootstrap.min.css set `[hidden] { display: none !important; }` so we also need the `!important` here to be able to override the default hidden behavior on the sphinx rendered scikit-learn.org. See: https://github.com/scikit-learn/scikit-learn/issues/21755 */display: inline-block !important;position: relative;}#sk-container-id-5 div.sk-text-repr-fallback {display: none;}</style><div id=\"sk-container-id-5\" class=\"sk-top-container\"><div class=\"sk-text-repr-fallback\"><pre>LGBMClassifier()</pre><b>In a Jupyter environment, please rerun this cell to show the HTML representation or trust the notebook. <br />On GitHub, the HTML representation is unable to render, please try loading this page with nbviewer.org.</b></div><div class=\"sk-container\" hidden><div class=\"sk-item\"><div class=\"sk-estimator sk-toggleable\"><input class=\"sk-toggleable__control sk-hidden--visually\" id=\"sk-estimator-id-5\" type=\"checkbox\" checked><label for=\"sk-estimator-id-5\" class=\"sk-toggleable__label sk-toggleable__label-arrow\">LGBMClassifier</label><div class=\"sk-toggleable__content\"><pre>LGBMClassifier()</pre></div></div></div></div></div>"
      ],
      "text/plain": [
       "LGBMClassifier()"
      ]
     },
     "execution_count": 70,
     "metadata": {},
     "output_type": "execute_result"
    }
   ],
   "source": [
    "mlflow.lightgbm.autolog()\n",
    "\n",
    "lgbm.fit(X_train, y_train, eval_set=(X_val, y_val))"
   ]
  },
  {
   "cell_type": "code",
   "execution_count": 71,
   "id": "ae55dbbb",
   "metadata": {},
   "outputs": [],
   "source": [
    "y_pred = lgbm.predict(X_train)"
   ]
  },
  {
   "cell_type": "code",
   "execution_count": 72,
   "id": "ddae1b23",
   "metadata": {},
   "outputs": [
    {
     "data": {
      "text/plain": [
       "0.6370321797194192"
      ]
     },
     "execution_count": 72,
     "metadata": {},
     "output_type": "execute_result"
    }
   ],
   "source": [
    "score = roc_auc_score(y_train, y_pred)\n",
    "score"
   ]
  },
  {
   "cell_type": "markdown",
   "id": "3732146e",
   "metadata": {},
   "source": [
    "<h3> Model evaluation on validation data </h3>"
   ]
  },
  {
   "cell_type": "code",
   "execution_count": 73,
   "id": "b99f5615",
   "metadata": {},
   "outputs": [],
   "source": [
    "y_pred = lgbm.predict(X_val)"
   ]
  },
  {
   "cell_type": "code",
   "execution_count": 74,
   "id": "38005407",
   "metadata": {},
   "outputs": [
    {
     "data": {
      "text/plain": [
       "0.6331832060719743"
      ]
     },
     "execution_count": 74,
     "metadata": {},
     "output_type": "execute_result"
    }
   ],
   "source": [
    "score = roc_auc_score(y_val, y_pred)\n",
    "score"
   ]
  },
  {
   "cell_type": "markdown",
   "id": "828a2e5b",
   "metadata": {},
   "source": [
    "<h3> Model evaluation on test data </h3>"
   ]
  },
  {
   "cell_type": "code",
   "execution_count": 87,
   "id": "5a2aa696",
   "metadata": {},
   "outputs": [
    {
     "name": "stderr",
     "output_type": "stream",
     "text": [
      "2023/08/16 12:34:29 DEBUG mlflow.utils.autologging_utils: Called autolog() method for lightgbm autologging with args '()' and kwargs '{'log_input_examples': False, 'log_model_signatures': True, 'log_models': True, 'disable': False, 'exclusive': False, 'disable_for_unsupported_versions': True, 'silent': False, 'registered_model_name': None}'\n"
     ]
    },
    {
     "name": "stdout",
     "output_type": "stream",
     "text": [
      "[LightGBM] [Info] Number of positive: 37966, number of negative: 557792\n",
      "[LightGBM] [Warning] Auto-choosing row-wise multi-threading, the overhead of testing was 0.004096 seconds.\n",
      "You can set `force_row_wise=true` to remove the overhead.\n",
      "And if memory is not enough, you can set `force_col_wise=true`.\n",
      "[LightGBM] [Info] Total Bins 2075\n",
      "[LightGBM] [Info] Number of data points in the train set: 595758, number of used features: 13\n",
      "[LightGBM] [Info] [binary:BoostFromScore]: pavg=0.063727 -> initscore=-2.687295\n",
      "[LightGBM] [Info] Start training from score -2.687295\n"
     ]
    },
    {
     "name": "stderr",
     "output_type": "stream",
     "text": [
      "2023/08/16 12:34:31 DEBUG mlflow.utils.autologging_utils: Invoked patched API '<module 'sklearn.metrics' from '/Users/sarveshthakur/anaconda3/envs/exp-tracking-env/lib/python3.9/site-packages/sklearn/metrics/__init__.py'>.roc_auc_score' for sklearn autologging with args '(        0\n",
      "0       0\n",
      "1       0\n",
      "2       0\n",
      "3       0\n",
      "4       0\n",
      "...    ..\n",
      "198582  0\n",
      "198583  0\n",
      "198584  0\n",
      "198585  0\n",
      "198586  0\n",
      "\n",
      "[198587 rows x 1 columns], array([0, 0, 0, ..., 0, 0, 0]))' and kwargs '{}'\n",
      "2023/08/16 12:34:31 DEBUG mlflow.utils.autologging_utils: Original function invoked during execution of patched API '<module 'sklearn.metrics' from '/Users/sarveshthakur/anaconda3/envs/exp-tracking-env/lib/python3.9/site-packages/sklearn/metrics/__init__.py'>.roc_auc_score' for sklearn autologging. Original function was invoked with args '(        0\n",
      "0       0\n",
      "1       0\n",
      "2       0\n",
      "3       0\n",
      "4       0\n",
      "...    ..\n",
      "198582  0\n",
      "198583  0\n",
      "198584  0\n",
      "198585  0\n",
      "198586  0\n",
      "\n",
      "[198587 rows x 1 columns], array([0, 0, 0, ..., 0, 0, 0]))' and kwargs '{}'\n",
      "2023/08/16 12:34:31 DEBUG mlflow.utils.autologging_utils: Original function invocation completed successfully during execution of patched API call '<module 'sklearn.metrics' from '/Users/sarveshthakur/anaconda3/envs/exp-tracking-env/lib/python3.9/site-packages/sklearn/metrics/__init__.py'>.roc_auc_score' for sklearn autologging. Original function was invoked with with args '(        0\n",
      "0       0\n",
      "1       0\n",
      "2       0\n",
      "3       0\n",
      "4       0\n",
      "...    ..\n",
      "198582  0\n",
      "198583  0\n",
      "198584  0\n",
      "198585  0\n",
      "198586  0\n",
      "\n",
      "[198587 rows x 1 columns], array([0, 0, 0, ..., 0, 0, 0]))' and kwargs '{}'\n",
      "2023/08/16 12:34:31 DEBUG mlflow.utils.autologging_utils: Patched API call '<module 'sklearn.metrics' from '/Users/sarveshthakur/anaconda3/envs/exp-tracking-env/lib/python3.9/site-packages/sklearn/metrics/__init__.py'>.roc_auc_score' for sklearn autologging completed successfully. Patched ML API was called with args '(        0\n",
      "0       0\n",
      "1       0\n",
      "2       0\n",
      "3       0\n",
      "4       0\n",
      "...    ..\n",
      "198582  0\n",
      "198583  0\n",
      "198584  0\n",
      "198585  0\n",
      "198586  0\n",
      "\n",
      "[198587 rows x 1 columns], array([0, 0, 0, ..., 0, 0, 0]))' and kwargs '{}'\n"
     ]
    },
    {
     "data": {
      "text/plain": [
       "0.6298328286010286"
      ]
     },
     "execution_count": 87,
     "metadata": {},
     "output_type": "execute_result"
    }
   ],
   "source": [
    "mlflow.lightgbm.autolog(disable_for_unsupported_versions=True)\n",
    "# import logging\n",
    "# logging.getLogger(\"mlflow\").setLevel(logging.DEBUG)\n",
    "lgbm.fit(X_train, y_train.values.ravel(), eval_set=(X_val, y_val.values.ravel()))\n",
    "y_pred = lgbm.predict(X_test)\n",
    "score = roc_auc_score(y_test, y_pred)\n",
    "score\n",
    "\n"
   ]
  },
  {
   "cell_type": "code",
   "execution_count": 82,
   "id": "d11f4d36",
   "metadata": {},
   "outputs": [],
   "source": [
    "with open('models/lgbm.bin', 'wb') as f_out:\n",
    "    pickle.dump((dv, lgbm), f_out)"
   ]
  },
  {
   "cell_type": "code",
   "execution_count": 89,
   "id": "954a081a",
   "metadata": {},
   "outputs": [
    {
     "name": "stderr",
     "output_type": "stream",
     "text": [
      "2023/08/16 12:35:08 WARNING mlflow.models.model: Logging model metadata to the tracking server has failed. The model artifacts have been logged successfully under /Users/sarveshthakur/Documents/MLOps Zoomcamp/datasets/mlruns/1/77303e4eddd148f1ba4b4a0a5cadead2/artifacts. Set logging level to DEBUG via `logging.getLogger(\"mlflow\").setLevel(logging.DEBUG)` to see the full traceback.\n",
      "2023/08/16 12:35:08 DEBUG mlflow.models.model: \n",
      "Traceback (most recent call last):\n",
      "  File \"/Users/sarveshthakur/anaconda3/envs/exp-tracking-env/lib/python3.9/site-packages/mlflow/models/model.py\", line 550, in log\n",
      "    mlflow.tracking.fluent._record_logged_model(mlflow_model)\n",
      "  File \"/Users/sarveshthakur/anaconda3/envs/exp-tracking-env/lib/python3.9/site-packages/mlflow/tracking/fluent.py\", line 993, in _record_logged_model\n",
      "    MlflowClient()._record_logged_model(run_id, mlflow_model)\n",
      "  File \"/Users/sarveshthakur/anaconda3/envs/exp-tracking-env/lib/python3.9/site-packages/mlflow/tracking/client.py\", line 1396, in _record_logged_model\n",
      "    self._tracking_client._record_logged_model(run_id, mlflow_model)\n",
      "  File \"/Users/sarveshthakur/anaconda3/envs/exp-tracking-env/lib/python3.9/site-packages/mlflow/tracking/_tracking_service/client.py\", line 404, in _record_logged_model\n",
      "    self.store.record_logged_model(run_id, mlflow_model)\n",
      "  File \"/Users/sarveshthakur/anaconda3/envs/exp-tracking-env/lib/python3.9/site-packages/mlflow/store/tracking/sqlalchemy_store.py\", line 1239, in record_logged_model\n",
      "    _validate_tag(MLFLOW_LOGGED_MODELS, value)\n",
      "  File \"/Users/sarveshthakur/anaconda3/envs/exp-tracking-env/lib/python3.9/site-packages/mlflow/utils/validation.py\", line 173, in _validate_tag\n",
      "    _validate_length_limit(\"Tag value\", MAX_TAG_VAL_LENGTH, value)\n",
      "  File \"/Users/sarveshthakur/anaconda3/envs/exp-tracking-env/lib/python3.9/site-packages/mlflow/utils/validation.py\", line 263, in _validate_length_limit\n",
      "    raise MlflowException(\n",
      "mlflow.exceptions.MlflowException: Tag value '[{\"run_id\": \"77303e4eddd148f1ba4b4a0a5cadead2\", \"artifact_path\": \"model\", \"utc_time_created\": \"2023-08-16 04:50:50.043786\", \"flavors\": {\"python_function\": {\"loader_module\": \"mlflow.lightgbm\", \"python_version\": \"3.9.16\", \"data\": \"model.pkl\", \"env\": {\"' had length 5366, which exceeded length limit of 5000\n"
     ]
    },
    {
     "data": {
      "text/plain": [
       "<mlflow.models.model.ModelInfo at 0x2dd279100>"
      ]
     },
     "execution_count": 89,
     "metadata": {},
     "output_type": "execute_result"
    }
   ],
   "source": [
    "mlflow.log_artifact(local_path=\"models/lgbm.bin\", artifact_path=\"models_pickl4\")\n",
    "mlflow.lightgbm.log_model(lgbm,artifact_path=\"models_pickle4\")"
   ]
  },
  {
   "cell_type": "code",
   "execution_count": 43,
   "id": "08ece0d0",
   "metadata": {},
   "outputs": [
    {
     "data": {
      "text/plain": [
       "0.8669172574290727"
      ]
     },
     "execution_count": 43,
     "metadata": {},
     "output_type": "execute_result"
    }
   ],
   "source": [
    "score = roc_auc_score(y_test, y_pred)\n",
    "score"
   ]
  },
  {
   "cell_type": "code",
   "execution_count": null,
   "id": "0b645f0b",
   "metadata": {},
   "outputs": [],
   "source": []
  }
 ],
 "metadata": {
  "kernelspec": {
   "display_name": "Python 3 (ipykernel)",
   "language": "python",
   "name": "python3"
  },
  "language_info": {
   "codemirror_mode": {
    "name": "ipython",
    "version": 3
   },
   "file_extension": ".py",
   "mimetype": "text/x-python",
   "name": "python",
   "nbconvert_exporter": "python",
   "pygments_lexer": "ipython3",
   "version": "3.9.16"
  }
 },
 "nbformat": 4,
 "nbformat_minor": 5
}
