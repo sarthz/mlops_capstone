{
 "cells": [
  {
   "cell_type": "markdown",
   "metadata": {},
   "source": [
    "<h3> Model Registry Initiation </h3>"
   ]
  },
  {
   "cell_type": "code",
   "execution_count": 8,
   "metadata": {},
   "outputs": [],
   "source": [
    "from mlflow.tracking import MlflowClient\n",
    "from mlflow.entities import ViewType\n",
    "import mlflow\n"
   ]
  },
  {
   "cell_type": "markdown",
   "metadata": {},
   "source": [
    "<h3> Set mlflow tracking uri and experiment </h3>"
   ]
  },
  {
   "cell_type": "code",
   "execution_count": 9,
   "metadata": {},
   "outputs": [
    {
     "data": {
      "text/plain": [
       "<Experiment: artifact_location=('/Users/sarveshthakur/Documents/MLOps '\n",
       " 'Zoomcamp/mlops-zoomcamp-practice/capstone project/mlruns/3'), creation_time=1692204804852, experiment_id='3', last_update_time=1692204804852, lifecycle_stage='active', name='kkbox-churn-prediction3', tags={}>"
      ]
     },
     "execution_count": 9,
     "metadata": {},
     "output_type": "execute_result"
    }
   ],
   "source": [
    "mlflow.set_tracking_uri(\"sqlite:///mlflow.db\")\n",
    "mlflow.set_experiment(\"kkbox-churn-prediction3\")"
   ]
  },
  {
   "cell_type": "code",
   "execution_count": 10,
   "metadata": {},
   "outputs": [],
   "source": [
    "MLFLOW_TRACKING_URI = \"sqlite:///mlflow.db\"\n",
    "# client = MlflowClient(\"http://127.0.0.1:5000\")\n",
    "\n",
    "client = MlflowClient(tracking_uri=MLFLOW_TRACKING_URI)"
   ]
  },
  {
   "cell_type": "code",
   "execution_count": 11,
   "metadata": {},
   "outputs": [],
   "source": [
    "experiment = client.get_experiment_by_name(\"kkbox-churn-prediction3\")"
   ]
  },
  {
   "cell_type": "code",
   "execution_count": 12,
   "metadata": {},
   "outputs": [
    {
     "name": "stdout",
     "output_type": "stream",
     "text": [
      "run id: f8173dd34507482e9258a0b699b1e02c, roc_auc_score: 0.5000\n",
      "run id: 8eb6c1d188c7441c900ee29f0f4917ec, roc_auc_score: 0.6298\n",
      "run id: e700f5491b3242798ab1f45c60742358, roc_auc_score: 0.6298\n",
      "run id: eff24819b0d443a48315955e1123fc94, roc_auc_score: 0.6298\n",
      "run id: c4024f3eec4c49a694177bcda23304ab, roc_auc_score: 0.6298\n"
     ]
    }
   ],
   "source": [
    "top_n = 5\n",
    "\n",
    "runs = client.search_runs(\n",
    "experiment_ids=experiment.experiment_id,\n",
    "run_view_type=ViewType.ACTIVE_ONLY,\n",
    "max_results=top_n,\n",
    "order_by=[\"metrics.roc_auc_score ASC\"]\n",
    ")\n",
    "\n",
    "for run in runs:\n",
    "    print(f\"run id: {run.info.run_id}, roc_auc_score: {run.data.metrics['roc_auc_score']:.4f}\")\n",
    "\n",
    "\n",
    "\n"
   ]
  },
  {
   "cell_type": "markdown",
   "metadata": {},
   "source": [
    "<h3> Register model </h3>"
   ]
  },
  {
   "cell_type": "code",
   "execution_count": 13,
   "metadata": {},
   "outputs": [
    {
     "name": "stderr",
     "output_type": "stream",
     "text": [
      "Registered model 'kkbox-churn-prediction3' already exists. Creating a new version of this model...\n",
      "2023/08/16 15:19:40 INFO mlflow.tracking._model_registry.client: Waiting up to 300 seconds for model version to finish creation. Model name: kkbox-churn-prediction3, version 2\n"
     ]
    },
    {
     "name": "stderr",
     "output_type": "stream",
     "text": [
      "Created version '2' of model 'kkbox-churn-prediction3'.\n"
     ]
    },
    {
     "data": {
      "text/plain": [
       "<ModelVersion: aliases=[], creation_timestamp=1692213580890, current_stage='None', description=None, last_updated_timestamp=1692213580890, name='kkbox-churn-prediction3', run_id='c4024f3eec4c49a694177bcda23304ab', run_link=None, source=('/Users/sarveshthakur/Documents/MLOps '\n",
       " 'Zoomcamp/mlops-zoomcamp-practice/capstone '\n",
       " 'project/mlruns/3/c4024f3eec4c49a694177bcda23304ab/artifacts/model'), status='READY', status_message=None, tags={}, user_id=None, version=2>"
      ]
     },
     "execution_count": 13,
     "metadata": {},
     "output_type": "execute_result"
    }
   ],
   "source": [
    "run_id = 'c4024f3eec4c49a694177bcda23304ab'\n",
    "model_uri = f'runs:/{run_id}/model'\n",
    "\n",
    "mlflow.register_model(model_uri=model_uri, name=\"kkbox-churn-prediction3\")"
   ]
  },
  {
   "cell_type": "markdown",
   "metadata": {},
   "source": [
    "<h3> Promote model to staging </h3>"
   ]
  },
  {
   "cell_type": "code",
   "execution_count": 14,
   "metadata": {},
   "outputs": [],
   "source": [
    "model_name = \"kkbox-churn-prediction3\"\n",
    "latest_versions = client.get_latest_versions(name=model_name)"
   ]
  },
  {
   "cell_type": "code",
   "execution_count": 15,
   "metadata": {},
   "outputs": [
    {
     "name": "stdout",
     "output_type": "stream",
     "text": [
      "version: 1, stage: Production\n",
      "version: 2, stage: None\n"
     ]
    }
   ],
   "source": [
    "for version in latest_versions:\n",
    "    print(f\"version: {version.version}, stage: {version.current_stage}\")"
   ]
  },
  {
   "cell_type": "code",
   "execution_count": 16,
   "metadata": {},
   "outputs": [
    {
     "data": {
      "text/plain": [
       "<ModelVersion: aliases=[], creation_timestamp=1692210263558, current_stage='Staging', description=None, last_updated_timestamp=1692213585714, name='kkbox-churn-prediction3', run_id='c4024f3eec4c49a694177bcda23304ab', run_link=None, source=('/Users/sarveshthakur/Documents/MLOps '\n",
       " 'Zoomcamp/mlops-zoomcamp-practice/capstone '\n",
       " 'project/mlruns/3/c4024f3eec4c49a694177bcda23304ab/artifacts/model'), status='READY', status_message=None, tags={}, user_id=None, version=1>"
      ]
     },
     "execution_count": 16,
     "metadata": {},
     "output_type": "execute_result"
    }
   ],
   "source": [
    "client.transition_model_version_stage(\n",
    "    name=model_name,\n",
    "    version=1,\n",
    "    stage=\"Staging\",\n",
    "    archive_existing_versions=False\n",
    ")"
   ]
  },
  {
   "cell_type": "code",
   "execution_count": 17,
   "metadata": {},
   "outputs": [
    {
     "data": {
      "text/plain": [
       "<ModelVersion: aliases=[], creation_timestamp=1692210263558, current_stage='Production', description=None, last_updated_timestamp=1692213586442, name='kkbox-churn-prediction3', run_id='c4024f3eec4c49a694177bcda23304ab', run_link=None, source=('/Users/sarveshthakur/Documents/MLOps '\n",
       " 'Zoomcamp/mlops-zoomcamp-practice/capstone '\n",
       " 'project/mlruns/3/c4024f3eec4c49a694177bcda23304ab/artifacts/model'), status='READY', status_message=None, tags={}, user_id=None, version=1>"
      ]
     },
     "execution_count": 17,
     "metadata": {},
     "output_type": "execute_result"
    }
   ],
   "source": [
    "client.transition_model_version_stage(\n",
    "    name=model_name,\n",
    "    version=1,\n",
    "    stage=\"Production\",\n",
    "    archive_existing_versions=False\n",
    ")"
   ]
  }
 ],
 "metadata": {
  "kernelspec": {
   "display_name": "exp-tracking-env",
   "language": "python",
   "name": "python3"
  },
  "language_info": {
   "codemirror_mode": {
    "name": "ipython",
    "version": 3
   },
   "file_extension": ".py",
   "mimetype": "text/x-python",
   "name": "python",
   "nbconvert_exporter": "python",
   "pygments_lexer": "ipython3",
   "version": "3.9.16"
  },
  "orig_nbformat": 4
 },
 "nbformat": 4,
 "nbformat_minor": 2
}
