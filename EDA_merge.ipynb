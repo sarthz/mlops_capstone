{
 "cells": [
  {
   "cell_type": "markdown",
   "id": "94083c96",
   "metadata": {},
   "source": [
    "<h1> KKBox Churn Prediction </h1>"
   ]
  },
  {
   "cell_type": "code",
   "execution_count": 2,
   "id": "8e3211ef",
   "metadata": {},
   "outputs": [],
   "source": [
    "import pandas as pd\n",
    "import random\n",
    "from IPython.display import display"
   ]
  },
  {
   "cell_type": "markdown",
   "id": "8eb7a1db",
   "metadata": {},
   "source": [
    "<h3> Load Datasets </h3>"
   ]
  },
  {
   "cell_type": "markdown",
   "id": "81b85e88",
   "metadata": {},
   "source": [
    "<h4> dataset train </h4>"
   ]
  },
  {
   "cell_type": "code",
   "execution_count": 11,
   "id": "6657ce01",
   "metadata": {},
   "outputs": [],
   "source": [
    "df_train_dataset = pd.read_csv('./kkbox-churn-prediction-challenge/train.csv')"
   ]
  },
  {
   "cell_type": "code",
   "execution_count": 12,
   "id": "534481a3",
   "metadata": {
    "scrolled": true
   },
   "outputs": [
    {
     "data": {
      "text/plain": [
       "992931"
      ]
     },
     "execution_count": 12,
     "metadata": {},
     "output_type": "execute_result"
    }
   ],
   "source": [
    "len(df_train_dataset)"
   ]
  },
  {
   "cell_type": "code",
   "execution_count": 13,
   "id": "4a33da1c",
   "metadata": {},
   "outputs": [
    {
     "data": {
      "text/html": [
       "<div>\n",
       "<style scoped>\n",
       "    .dataframe tbody tr th:only-of-type {\n",
       "        vertical-align: middle;\n",
       "    }\n",
       "\n",
       "    .dataframe tbody tr th {\n",
       "        vertical-align: top;\n",
       "    }\n",
       "\n",
       "    .dataframe thead th {\n",
       "        text-align: right;\n",
       "    }\n",
       "</style>\n",
       "<table border=\"1\" class=\"dataframe\">\n",
       "  <thead>\n",
       "    <tr style=\"text-align: right;\">\n",
       "      <th></th>\n",
       "      <th>msno</th>\n",
       "      <th>is_churn</th>\n",
       "    </tr>\n",
       "  </thead>\n",
       "  <tbody>\n",
       "    <tr>\n",
       "      <th>0</th>\n",
       "      <td>waLDQMmcOu2jLDaV1ddDkgCrB/jl6sD66Xzs0Vqax1Y=</td>\n",
       "      <td>1</td>\n",
       "    </tr>\n",
       "    <tr>\n",
       "      <th>1</th>\n",
       "      <td>QA7uiXy8vIbUSPOkCf9RwQ3FsT8jVq2OxDr8zqa7bRQ=</td>\n",
       "      <td>1</td>\n",
       "    </tr>\n",
       "    <tr>\n",
       "      <th>2</th>\n",
       "      <td>fGwBva6hikQmTJzrbz/2Ezjm5Cth5jZUNvXigKK2AFA=</td>\n",
       "      <td>1</td>\n",
       "    </tr>\n",
       "    <tr>\n",
       "      <th>3</th>\n",
       "      <td>mT5V8rEpa+8wuqi6x0DoVd3H5icMKkE9Prt49UlmK+4=</td>\n",
       "      <td>1</td>\n",
       "    </tr>\n",
       "    <tr>\n",
       "      <th>4</th>\n",
       "      <td>XaPhtGLk/5UvvOYHcONTwsnH97P4eGECeq+BARGItRw=</td>\n",
       "      <td>1</td>\n",
       "    </tr>\n",
       "  </tbody>\n",
       "</table>\n",
       "</div>"
      ],
      "text/plain": [
       "                                           msno  is_churn\n",
       "0  waLDQMmcOu2jLDaV1ddDkgCrB/jl6sD66Xzs0Vqax1Y=         1\n",
       "1  QA7uiXy8vIbUSPOkCf9RwQ3FsT8jVq2OxDr8zqa7bRQ=         1\n",
       "2  fGwBva6hikQmTJzrbz/2Ezjm5Cth5jZUNvXigKK2AFA=         1\n",
       "3  mT5V8rEpa+8wuqi6x0DoVd3H5icMKkE9Prt49UlmK+4=         1\n",
       "4  XaPhtGLk/5UvvOYHcONTwsnH97P4eGECeq+BARGItRw=         1"
      ]
     },
     "execution_count": 13,
     "metadata": {},
     "output_type": "execute_result"
    }
   ],
   "source": [
    "df_train_dataset.head()"
   ]
  },
  {
   "cell_type": "markdown",
   "id": "7c2c2f71",
   "metadata": {},
   "source": [
    "<h4> dataset members</h4>"
   ]
  },
  {
   "cell_type": "code",
   "execution_count": 14,
   "id": "f45c570c",
   "metadata": {},
   "outputs": [],
   "source": [
    "df_members_v3 = pd.read_csv('./kkbox-churn-prediction-challenge/members_v3.csv')"
   ]
  },
  {
   "cell_type": "code",
   "execution_count": 15,
   "id": "a9fddae1",
   "metadata": {},
   "outputs": [
    {
     "data": {
      "text/plain": [
       "6769473"
      ]
     },
     "execution_count": 15,
     "metadata": {},
     "output_type": "execute_result"
    }
   ],
   "source": [
    "len(df_members_v3)"
   ]
  },
  {
   "cell_type": "code",
   "execution_count": 16,
   "id": "c3156d32",
   "metadata": {},
   "outputs": [
    {
     "data": {
      "text/html": [
       "<div>\n",
       "<style scoped>\n",
       "    .dataframe tbody tr th:only-of-type {\n",
       "        vertical-align: middle;\n",
       "    }\n",
       "\n",
       "    .dataframe tbody tr th {\n",
       "        vertical-align: top;\n",
       "    }\n",
       "\n",
       "    .dataframe thead th {\n",
       "        text-align: right;\n",
       "    }\n",
       "</style>\n",
       "<table border=\"1\" class=\"dataframe\">\n",
       "  <thead>\n",
       "    <tr style=\"text-align: right;\">\n",
       "      <th></th>\n",
       "      <th>msno</th>\n",
       "      <th>city</th>\n",
       "      <th>bd</th>\n",
       "      <th>gender</th>\n",
       "      <th>registered_via</th>\n",
       "      <th>registration_init_time</th>\n",
       "    </tr>\n",
       "  </thead>\n",
       "  <tbody>\n",
       "    <tr>\n",
       "      <th>0</th>\n",
       "      <td>Rb9UwLQTrxzBVwCB6+bCcSQWZ9JiNLC9dXtM1oEsZA8=</td>\n",
       "      <td>1</td>\n",
       "      <td>0</td>\n",
       "      <td>NaN</td>\n",
       "      <td>11</td>\n",
       "      <td>20110911</td>\n",
       "    </tr>\n",
       "    <tr>\n",
       "      <th>1</th>\n",
       "      <td>+tJonkh+O1CA796Fm5X60UMOtB6POHAwPjbTRVl/EuU=</td>\n",
       "      <td>1</td>\n",
       "      <td>0</td>\n",
       "      <td>NaN</td>\n",
       "      <td>7</td>\n",
       "      <td>20110914</td>\n",
       "    </tr>\n",
       "    <tr>\n",
       "      <th>2</th>\n",
       "      <td>cV358ssn7a0f7jZOwGNWS07wCKVqxyiImJUX6xcIwKw=</td>\n",
       "      <td>1</td>\n",
       "      <td>0</td>\n",
       "      <td>NaN</td>\n",
       "      <td>11</td>\n",
       "      <td>20110915</td>\n",
       "    </tr>\n",
       "    <tr>\n",
       "      <th>3</th>\n",
       "      <td>9bzDeJP6sQodK73K5CBlJ6fgIQzPeLnRl0p5B77XP+g=</td>\n",
       "      <td>1</td>\n",
       "      <td>0</td>\n",
       "      <td>NaN</td>\n",
       "      <td>11</td>\n",
       "      <td>20110915</td>\n",
       "    </tr>\n",
       "    <tr>\n",
       "      <th>4</th>\n",
       "      <td>WFLY3s7z4EZsieHCt63XrsdtfTEmJ+2PnnKLH5GY4Tk=</td>\n",
       "      <td>6</td>\n",
       "      <td>32</td>\n",
       "      <td>female</td>\n",
       "      <td>9</td>\n",
       "      <td>20110915</td>\n",
       "    </tr>\n",
       "  </tbody>\n",
       "</table>\n",
       "</div>"
      ],
      "text/plain": [
       "                                           msno  city  bd  gender   \n",
       "0  Rb9UwLQTrxzBVwCB6+bCcSQWZ9JiNLC9dXtM1oEsZA8=     1   0     NaN  \\\n",
       "1  +tJonkh+O1CA796Fm5X60UMOtB6POHAwPjbTRVl/EuU=     1   0     NaN   \n",
       "2  cV358ssn7a0f7jZOwGNWS07wCKVqxyiImJUX6xcIwKw=     1   0     NaN   \n",
       "3  9bzDeJP6sQodK73K5CBlJ6fgIQzPeLnRl0p5B77XP+g=     1   0     NaN   \n",
       "4  WFLY3s7z4EZsieHCt63XrsdtfTEmJ+2PnnKLH5GY4Tk=     6  32  female   \n",
       "\n",
       "   registered_via  registration_init_time  \n",
       "0              11                20110911  \n",
       "1               7                20110914  \n",
       "2              11                20110915  \n",
       "3              11                20110915  \n",
       "4               9                20110915  "
      ]
     },
     "execution_count": 16,
     "metadata": {},
     "output_type": "execute_result"
    }
   ],
   "source": [
    "df_members_v3.head()"
   ]
  },
  {
   "cell_type": "code",
   "execution_count": 17,
   "id": "a38b62c3",
   "metadata": {},
   "outputs": [
    {
     "data": {
      "text/plain": [
       "gender\n",
       "male      0.510842\n",
       "female    0.489158\n",
       "Name: proportion, dtype: float64"
      ]
     },
     "execution_count": 17,
     "metadata": {},
     "output_type": "execute_result"
    }
   ],
   "source": [
    "df_members_v3.gender.value_counts(normalize=True)"
   ]
  },
  {
   "cell_type": "code",
   "execution_count": 18,
   "id": "ea32c0da",
   "metadata": {},
   "outputs": [],
   "source": [
    "# df_members_v3.gender.isna().sum() "
   ]
  },
  {
   "cell_type": "code",
   "execution_count": 19,
   "id": "ac4c43c5",
   "metadata": {},
   "outputs": [],
   "source": [
    "# df_members_v3['gender'].fillna('ns', inplace=True)"
   ]
  },
  {
   "cell_type": "code",
   "execution_count": 20,
   "id": "63083e30",
   "metadata": {},
   "outputs": [],
   "source": [
    "# df_members_v3.drop(['bd', 'city'], axis=1, inplace=True)"
   ]
  },
  {
   "cell_type": "code",
   "execution_count": 21,
   "id": "559fe0cf",
   "metadata": {},
   "outputs": [],
   "source": [
    "#fill null values with 'ns' for non-specified\n",
    "df_members_v3['gender'].fillna('ns', inplace=True)\n",
    "df_members_v3['city'].fillna(0, inplace=True)\n",
    "\n",
    "#dropping bd (birthday/age) as it has a weird range from -ve to +ve\n",
    "df_members_v3.drop(['bd'], axis=1, inplace=True)\n",
    "\n",
    "#convert gender to int value\n",
    "\n",
    "gender = {'male':1, 'female':2, 'ns':0}\n",
    "df_members_v3['gender'] = df_members_v3['gender'].map(gender)\n"
   ]
  },
  {
   "cell_type": "code",
   "execution_count": 22,
   "id": "d7b68bda",
   "metadata": {},
   "outputs": [
    {
     "name": "stdout",
     "output_type": "stream",
     "text": [
      "nulls in gender 0\n",
      "nulls in city 0\n"
     ]
    }
   ],
   "source": [
    "print(\"nulls in gender\", df_members_v3.gender.isna().sum())\n",
    "print(\"nulls in city\", df_members_v3.city.isna().sum())"
   ]
  },
  {
   "cell_type": "code",
   "execution_count": 23,
   "id": "25c3ce89",
   "metadata": {
    "scrolled": true
   },
   "outputs": [
    {
     "data": {
      "text/plain": [
       "gender\n",
       "0    0.654335\n",
       "1    0.176580\n",
       "2    0.169085\n",
       "Name: proportion, dtype: float64"
      ]
     },
     "execution_count": 23,
     "metadata": {},
     "output_type": "execute_result"
    }
   ],
   "source": [
    "df_members_v3.gender.value_counts(normalize=True)"
   ]
  },
  {
   "cell_type": "code",
   "execution_count": 24,
   "id": "a93a371d",
   "metadata": {},
   "outputs": [
    {
     "data": {
      "text/plain": [
       "array([ 1,  6,  4,  5, 13, 22, 12, 15, 11,  9, 14,  8, 18, 21,  3,  7, 17,\n",
       "       10, 20, 16, 19])"
      ]
     },
     "execution_count": 24,
     "metadata": {},
     "output_type": "execute_result"
    }
   ],
   "source": [
    "df_members_v3['city'].unique()"
   ]
  },
  {
   "cell_type": "code",
   "execution_count": 25,
   "id": "801b34b9",
   "metadata": {
    "scrolled": false
   },
   "outputs": [
    {
     "data": {
      "text/html": [
       "<div>\n",
       "<style scoped>\n",
       "    .dataframe tbody tr th:only-of-type {\n",
       "        vertical-align: middle;\n",
       "    }\n",
       "\n",
       "    .dataframe tbody tr th {\n",
       "        vertical-align: top;\n",
       "    }\n",
       "\n",
       "    .dataframe thead th {\n",
       "        text-align: right;\n",
       "    }\n",
       "</style>\n",
       "<table border=\"1\" class=\"dataframe\">\n",
       "  <thead>\n",
       "    <tr style=\"text-align: right;\">\n",
       "      <th></th>\n",
       "      <th>msno</th>\n",
       "      <th>city</th>\n",
       "      <th>gender</th>\n",
       "      <th>registered_via</th>\n",
       "      <th>registration_init_time</th>\n",
       "    </tr>\n",
       "  </thead>\n",
       "  <tbody>\n",
       "    <tr>\n",
       "      <th>0</th>\n",
       "      <td>Rb9UwLQTrxzBVwCB6+bCcSQWZ9JiNLC9dXtM1oEsZA8=</td>\n",
       "      <td>1</td>\n",
       "      <td>0</td>\n",
       "      <td>11</td>\n",
       "      <td>20110911</td>\n",
       "    </tr>\n",
       "    <tr>\n",
       "      <th>1</th>\n",
       "      <td>+tJonkh+O1CA796Fm5X60UMOtB6POHAwPjbTRVl/EuU=</td>\n",
       "      <td>1</td>\n",
       "      <td>0</td>\n",
       "      <td>7</td>\n",
       "      <td>20110914</td>\n",
       "    </tr>\n",
       "    <tr>\n",
       "      <th>2</th>\n",
       "      <td>cV358ssn7a0f7jZOwGNWS07wCKVqxyiImJUX6xcIwKw=</td>\n",
       "      <td>1</td>\n",
       "      <td>0</td>\n",
       "      <td>11</td>\n",
       "      <td>20110915</td>\n",
       "    </tr>\n",
       "    <tr>\n",
       "      <th>3</th>\n",
       "      <td>9bzDeJP6sQodK73K5CBlJ6fgIQzPeLnRl0p5B77XP+g=</td>\n",
       "      <td>1</td>\n",
       "      <td>0</td>\n",
       "      <td>11</td>\n",
       "      <td>20110915</td>\n",
       "    </tr>\n",
       "    <tr>\n",
       "      <th>4</th>\n",
       "      <td>WFLY3s7z4EZsieHCt63XrsdtfTEmJ+2PnnKLH5GY4Tk=</td>\n",
       "      <td>6</td>\n",
       "      <td>2</td>\n",
       "      <td>9</td>\n",
       "      <td>20110915</td>\n",
       "    </tr>\n",
       "  </tbody>\n",
       "</table>\n",
       "</div>"
      ],
      "text/plain": [
       "                                           msno  city  gender  registered_via   \n",
       "0  Rb9UwLQTrxzBVwCB6+bCcSQWZ9JiNLC9dXtM1oEsZA8=     1       0              11  \\\n",
       "1  +tJonkh+O1CA796Fm5X60UMOtB6POHAwPjbTRVl/EuU=     1       0               7   \n",
       "2  cV358ssn7a0f7jZOwGNWS07wCKVqxyiImJUX6xcIwKw=     1       0              11   \n",
       "3  9bzDeJP6sQodK73K5CBlJ6fgIQzPeLnRl0p5B77XP+g=     1       0              11   \n",
       "4  WFLY3s7z4EZsieHCt63XrsdtfTEmJ+2PnnKLH5GY4Tk=     6       2               9   \n",
       "\n",
       "   registration_init_time  \n",
       "0                20110911  \n",
       "1                20110914  \n",
       "2                20110915  \n",
       "3                20110915  \n",
       "4                20110915  "
      ]
     },
     "execution_count": 25,
     "metadata": {},
     "output_type": "execute_result"
    }
   ],
   "source": [
    "df_members_v3.head()"
   ]
  },
  {
   "cell_type": "markdown",
   "id": "4c2cdfed",
   "metadata": {},
   "source": [
    "<h4> dataset user_logs </h4>"
   ]
  },
  {
   "cell_type": "code",
   "execution_count": 26,
   "id": "85f7269f",
   "metadata": {},
   "outputs": [],
   "source": [
    "filename = './kkbox-churn-prediction-challenge/user_logs_v2.csv'\n",
    "\n",
    "random.seed(4321)\n",
    "# %timeit df_user_logs_v2 = pd.read_csv(filename, skiprows=lambda x: x > 0 and random.random() >=0.01)\n",
    "df_user_logs_v2 = pd.read_csv(filename, skiprows=lambda x: x > 0 and random.random() >=1)"
   ]
  },
  {
   "cell_type": "code",
   "execution_count": 27,
   "id": "24b97062",
   "metadata": {},
   "outputs": [
    {
     "data": {
      "text/plain": [
       "18396362"
      ]
     },
     "execution_count": 27,
     "metadata": {},
     "output_type": "execute_result"
    }
   ],
   "source": [
    "len(df_user_logs_v2)"
   ]
  },
  {
   "cell_type": "code",
   "execution_count": 28,
   "id": "81e128ca",
   "metadata": {},
   "outputs": [],
   "source": [
    "df_user_logs_v2['date'] = df_user_logs_v2['date'].astype(str).str.slice(0,6)"
   ]
  },
  {
   "cell_type": "code",
   "execution_count": 29,
   "id": "26fdb6b5",
   "metadata": {},
   "outputs": [],
   "source": [
    "# df_user_logs_v2.groupby(['msno', 'date']).agg({'num_25': ['mean']\n",
    "#                                              , 'num_50': ['mean', 'median']\n",
    "#                                              , 'num_75': ['min', 'max']\n",
    "#                                              , 'num_985': ['min', 'max']\n",
    "#                                              , 'num_100': ['min', 'max']\n",
    "#                                              , 'num_unq': 'sum'\n",
    "#                                              , 'total_secs': 'sum'})\n"
   ]
  },
  {
   "cell_type": "code",
   "execution_count": 30,
   "id": "815e8797",
   "metadata": {},
   "outputs": [],
   "source": [
    "df_user_logs_v2_agg = df_user_logs_v2.groupby(['msno', 'date']).agg({'num_25': 'mean'\n",
    "                                             , 'num_50': 'mean'\n",
    "                                             , 'num_75': 'mean'\n",
    "                                             , 'num_985': 'mean'\n",
    "                                             , 'num_100': 'mean'\n",
    "                                             , 'num_unq': 'sum'\n",
    "                                             , 'total_secs': 'sum'}).reset_index()\n"
   ]
  },
  {
   "cell_type": "code",
   "execution_count": 31,
   "id": "0e1bceae",
   "metadata": {
    "scrolled": true
   },
   "outputs": [
    {
     "data": {
      "text/html": [
       "<div>\n",
       "<style scoped>\n",
       "    .dataframe tbody tr th:only-of-type {\n",
       "        vertical-align: middle;\n",
       "    }\n",
       "\n",
       "    .dataframe tbody tr th {\n",
       "        vertical-align: top;\n",
       "    }\n",
       "\n",
       "    .dataframe thead th {\n",
       "        text-align: right;\n",
       "    }\n",
       "</style>\n",
       "<table border=\"1\" class=\"dataframe\">\n",
       "  <thead>\n",
       "    <tr style=\"text-align: right;\">\n",
       "      <th></th>\n",
       "      <th>msno</th>\n",
       "      <th>date</th>\n",
       "      <th>num_25</th>\n",
       "      <th>num_50</th>\n",
       "      <th>num_75</th>\n",
       "      <th>num_985</th>\n",
       "      <th>num_100</th>\n",
       "      <th>num_unq</th>\n",
       "      <th>total_secs</th>\n",
       "    </tr>\n",
       "  </thead>\n",
       "  <tbody>\n",
       "    <tr>\n",
       "      <th>0</th>\n",
       "      <td>+++IZseRRiQS9aaSkH6cMYU6bGDcxUieAi/tH67sC5s=</td>\n",
       "      <td>201703</td>\n",
       "      <td>3.307692</td>\n",
       "      <td>0.423077</td>\n",
       "      <td>0.384615</td>\n",
       "      <td>0.192308</td>\n",
       "      <td>18.153846</td>\n",
       "      <td>530</td>\n",
       "      <td>117907.425</td>\n",
       "    </tr>\n",
       "    <tr>\n",
       "      <th>1</th>\n",
       "      <td>+++hVY1rZox/33YtvDgmKA2Frg/2qhkz12B9ylCvh8o=</td>\n",
       "      <td>201703</td>\n",
       "      <td>6.161290</td>\n",
       "      <td>2.903226</td>\n",
       "      <td>2.419355</td>\n",
       "      <td>4.645161</td>\n",
       "      <td>19.000000</td>\n",
       "      <td>885</td>\n",
       "      <td>192527.892</td>\n",
       "    </tr>\n",
       "    <tr>\n",
       "      <th>2</th>\n",
       "      <td>+++l/EXNMLTijfLBa8p2TUVVVp2aFGSuUI/h7mLmthw=</td>\n",
       "      <td>201703</td>\n",
       "      <td>1.535714</td>\n",
       "      <td>0.428571</td>\n",
       "      <td>0.535714</td>\n",
       "      <td>0.428571</td>\n",
       "      <td>17.321429</td>\n",
       "      <td>468</td>\n",
       "      <td>115411.260</td>\n",
       "    </tr>\n",
       "    <tr>\n",
       "      <th>3</th>\n",
       "      <td>+++snpr7pmobhLKUgSHTv/mpkqgBT0tQJ0zQj6qKrqc=</td>\n",
       "      <td>201703</td>\n",
       "      <td>9.857143</td>\n",
       "      <td>7.761905</td>\n",
       "      <td>4.761905</td>\n",
       "      <td>3.047619</td>\n",
       "      <td>20.761905</td>\n",
       "      <td>828</td>\n",
       "      <td>149896.558</td>\n",
       "    </tr>\n",
       "    <tr>\n",
       "      <th>4</th>\n",
       "      <td>++/9R3sX37CjxbY/AaGvbwr3QkwElKBCtSvVzhCBDOk=</td>\n",
       "      <td>201703</td>\n",
       "      <td>3.620690</td>\n",
       "      <td>0.827586</td>\n",
       "      <td>1.344828</td>\n",
       "      <td>1.206897</td>\n",
       "      <td>16.517241</td>\n",
       "      <td>230</td>\n",
       "      <td>116433.247</td>\n",
       "    </tr>\n",
       "  </tbody>\n",
       "</table>\n",
       "</div>"
      ],
      "text/plain": [
       "                                           msno    date    num_25    num_50   \n",
       "0  +++IZseRRiQS9aaSkH6cMYU6bGDcxUieAi/tH67sC5s=  201703  3.307692  0.423077  \\\n",
       "1  +++hVY1rZox/33YtvDgmKA2Frg/2qhkz12B9ylCvh8o=  201703  6.161290  2.903226   \n",
       "2  +++l/EXNMLTijfLBa8p2TUVVVp2aFGSuUI/h7mLmthw=  201703  1.535714  0.428571   \n",
       "3  +++snpr7pmobhLKUgSHTv/mpkqgBT0tQJ0zQj6qKrqc=  201703  9.857143  7.761905   \n",
       "4  ++/9R3sX37CjxbY/AaGvbwr3QkwElKBCtSvVzhCBDOk=  201703  3.620690  0.827586   \n",
       "\n",
       "     num_75   num_985    num_100  num_unq  total_secs  \n",
       "0  0.384615  0.192308  18.153846      530  117907.425  \n",
       "1  2.419355  4.645161  19.000000      885  192527.892  \n",
       "2  0.535714  0.428571  17.321429      468  115411.260  \n",
       "3  4.761905  3.047619  20.761905      828  149896.558  \n",
       "4  1.344828  1.206897  16.517241      230  116433.247  "
      ]
     },
     "execution_count": 31,
     "metadata": {},
     "output_type": "execute_result"
    }
   ],
   "source": [
    "df_user_logs_v2_agg.head()"
   ]
  },
  {
   "cell_type": "markdown",
   "id": "c1252588",
   "metadata": {},
   "source": [
    "<h3> Merge datasets </h3>"
   ]
  },
  {
   "cell_type": "markdown",
   "id": "777bf54b",
   "metadata": {},
   "source": [
    "<h4> merge train + members </h4>"
   ]
  },
  {
   "cell_type": "code",
   "execution_count": 32,
   "id": "867ebb44",
   "metadata": {},
   "outputs": [],
   "source": [
    "df_train = df_train_dataset.merge(df_members_v3, how='left', on='msno')"
   ]
  },
  {
   "cell_type": "code",
   "execution_count": 33,
   "id": "1fa85658",
   "metadata": {},
   "outputs": [
    {
     "data": {
      "text/plain": [
       "992931"
      ]
     },
     "execution_count": 33,
     "metadata": {},
     "output_type": "execute_result"
    }
   ],
   "source": [
    "len(df_train)"
   ]
  },
  {
   "cell_type": "code",
   "execution_count": 34,
   "id": "7f3e3c10",
   "metadata": {},
   "outputs": [
    {
     "data": {
      "text/plain": [
       "msno                           0\n",
       "is_churn                       0\n",
       "city                      115770\n",
       "gender                    115770\n",
       "registered_via            115770\n",
       "registration_init_time    115770\n",
       "dtype: int64"
      ]
     },
     "execution_count": 34,
     "metadata": {},
     "output_type": "execute_result"
    }
   ],
   "source": [
    "df_train.isnull().sum()"
   ]
  },
  {
   "cell_type": "code",
   "execution_count": 35,
   "id": "fc09ef82",
   "metadata": {},
   "outputs": [
    {
     "data": {
      "text/html": [
       "<div>\n",
       "<style scoped>\n",
       "    .dataframe tbody tr th:only-of-type {\n",
       "        vertical-align: middle;\n",
       "    }\n",
       "\n",
       "    .dataframe tbody tr th {\n",
       "        vertical-align: top;\n",
       "    }\n",
       "\n",
       "    .dataframe thead th {\n",
       "        text-align: right;\n",
       "    }\n",
       "</style>\n",
       "<table border=\"1\" class=\"dataframe\">\n",
       "  <thead>\n",
       "    <tr style=\"text-align: right;\">\n",
       "      <th></th>\n",
       "      <th>msno</th>\n",
       "      <th>is_churn</th>\n",
       "      <th>city</th>\n",
       "      <th>gender</th>\n",
       "      <th>registered_via</th>\n",
       "      <th>registration_init_time</th>\n",
       "    </tr>\n",
       "  </thead>\n",
       "  <tbody>\n",
       "    <tr>\n",
       "      <th>0</th>\n",
       "      <td>waLDQMmcOu2jLDaV1ddDkgCrB/jl6sD66Xzs0Vqax1Y=</td>\n",
       "      <td>1</td>\n",
       "      <td>18.0</td>\n",
       "      <td>2.0</td>\n",
       "      <td>9.0</td>\n",
       "      <td>20050406.0</td>\n",
       "    </tr>\n",
       "    <tr>\n",
       "      <th>1</th>\n",
       "      <td>QA7uiXy8vIbUSPOkCf9RwQ3FsT8jVq2OxDr8zqa7bRQ=</td>\n",
       "      <td>1</td>\n",
       "      <td>10.0</td>\n",
       "      <td>1.0</td>\n",
       "      <td>9.0</td>\n",
       "      <td>20050407.0</td>\n",
       "    </tr>\n",
       "    <tr>\n",
       "      <th>2</th>\n",
       "      <td>fGwBva6hikQmTJzrbz/2Ezjm5Cth5jZUNvXigKK2AFA=</td>\n",
       "      <td>1</td>\n",
       "      <td>11.0</td>\n",
       "      <td>2.0</td>\n",
       "      <td>9.0</td>\n",
       "      <td>20051016.0</td>\n",
       "    </tr>\n",
       "    <tr>\n",
       "      <th>3</th>\n",
       "      <td>mT5V8rEpa+8wuqi6x0DoVd3H5icMKkE9Prt49UlmK+4=</td>\n",
       "      <td>1</td>\n",
       "      <td>13.0</td>\n",
       "      <td>2.0</td>\n",
       "      <td>9.0</td>\n",
       "      <td>20051102.0</td>\n",
       "    </tr>\n",
       "    <tr>\n",
       "      <th>4</th>\n",
       "      <td>XaPhtGLk/5UvvOYHcONTwsnH97P4eGECeq+BARGItRw=</td>\n",
       "      <td>1</td>\n",
       "      <td>3.0</td>\n",
       "      <td>1.0</td>\n",
       "      <td>9.0</td>\n",
       "      <td>20051228.0</td>\n",
       "    </tr>\n",
       "  </tbody>\n",
       "</table>\n",
       "</div>"
      ],
      "text/plain": [
       "                                           msno  is_churn  city  gender   \n",
       "0  waLDQMmcOu2jLDaV1ddDkgCrB/jl6sD66Xzs0Vqax1Y=         1  18.0     2.0  \\\n",
       "1  QA7uiXy8vIbUSPOkCf9RwQ3FsT8jVq2OxDr8zqa7bRQ=         1  10.0     1.0   \n",
       "2  fGwBva6hikQmTJzrbz/2Ezjm5Cth5jZUNvXigKK2AFA=         1  11.0     2.0   \n",
       "3  mT5V8rEpa+8wuqi6x0DoVd3H5icMKkE9Prt49UlmK+4=         1  13.0     2.0   \n",
       "4  XaPhtGLk/5UvvOYHcONTwsnH97P4eGECeq+BARGItRw=         1   3.0     1.0   \n",
       "\n",
       "   registered_via  registration_init_time  \n",
       "0             9.0              20050406.0  \n",
       "1             9.0              20050407.0  \n",
       "2             9.0              20051016.0  \n",
       "3             9.0              20051102.0  \n",
       "4             9.0              20051228.0  "
      ]
     },
     "execution_count": 35,
     "metadata": {},
     "output_type": "execute_result"
    }
   ],
   "source": [
    "df_train.head()"
   ]
  },
  {
   "cell_type": "code",
   "execution_count": 36,
   "id": "b797901a",
   "metadata": {},
   "outputs": [
    {
     "data": {
      "text/html": [
       "<div>\n",
       "<style scoped>\n",
       "    .dataframe tbody tr th:only-of-type {\n",
       "        vertical-align: middle;\n",
       "    }\n",
       "\n",
       "    .dataframe tbody tr th {\n",
       "        vertical-align: top;\n",
       "    }\n",
       "\n",
       "    .dataframe thead th {\n",
       "        text-align: right;\n",
       "    }\n",
       "</style>\n",
       "<table border=\"1\" class=\"dataframe\">\n",
       "  <thead>\n",
       "    <tr style=\"text-align: right;\">\n",
       "      <th></th>\n",
       "      <th>is_churn</th>\n",
       "      <th>city</th>\n",
       "      <th>gender</th>\n",
       "      <th>registered_via</th>\n",
       "      <th>registration_init_time</th>\n",
       "    </tr>\n",
       "  </thead>\n",
       "  <tbody>\n",
       "    <tr>\n",
       "      <th>count</th>\n",
       "      <td>992931.000000</td>\n",
       "      <td>877161.000000</td>\n",
       "      <td>877161.000000</td>\n",
       "      <td>877161.000000</td>\n",
       "      <td>8.771610e+05</td>\n",
       "    </tr>\n",
       "    <tr>\n",
       "      <th>mean</th>\n",
       "      <td>0.063923</td>\n",
       "      <td>5.882329</td>\n",
       "      <td>0.657918</td>\n",
       "      <td>6.911228</td>\n",
       "      <td>2.013228e+07</td>\n",
       "    </tr>\n",
       "    <tr>\n",
       "      <th>std</th>\n",
       "      <td>0.244616</td>\n",
       "      <td>6.423447</td>\n",
       "      <td>0.804865</td>\n",
       "      <td>1.904441</td>\n",
       "      <td>2.973484e+04</td>\n",
       "    </tr>\n",
       "    <tr>\n",
       "      <th>min</th>\n",
       "      <td>0.000000</td>\n",
       "      <td>1.000000</td>\n",
       "      <td>0.000000</td>\n",
       "      <td>3.000000</td>\n",
       "      <td>2.004033e+07</td>\n",
       "    </tr>\n",
       "    <tr>\n",
       "      <th>25%</th>\n",
       "      <td>0.000000</td>\n",
       "      <td>1.000000</td>\n",
       "      <td>0.000000</td>\n",
       "      <td>7.000000</td>\n",
       "      <td>2.012021e+07</td>\n",
       "    </tr>\n",
       "    <tr>\n",
       "      <th>50%</th>\n",
       "      <td>0.000000</td>\n",
       "      <td>1.000000</td>\n",
       "      <td>0.000000</td>\n",
       "      <td>7.000000</td>\n",
       "      <td>2.014051e+07</td>\n",
       "    </tr>\n",
       "    <tr>\n",
       "      <th>75%</th>\n",
       "      <td>0.000000</td>\n",
       "      <td>13.000000</td>\n",
       "      <td>1.000000</td>\n",
       "      <td>9.000000</td>\n",
       "      <td>2.016011e+07</td>\n",
       "    </tr>\n",
       "    <tr>\n",
       "      <th>max</th>\n",
       "      <td>1.000000</td>\n",
       "      <td>22.000000</td>\n",
       "      <td>2.000000</td>\n",
       "      <td>13.000000</td>\n",
       "      <td>2.017033e+07</td>\n",
       "    </tr>\n",
       "  </tbody>\n",
       "</table>\n",
       "</div>"
      ],
      "text/plain": [
       "            is_churn           city         gender  registered_via   \n",
       "count  992931.000000  877161.000000  877161.000000   877161.000000  \\\n",
       "mean        0.063923       5.882329       0.657918        6.911228   \n",
       "std         0.244616       6.423447       0.804865        1.904441   \n",
       "min         0.000000       1.000000       0.000000        3.000000   \n",
       "25%         0.000000       1.000000       0.000000        7.000000   \n",
       "50%         0.000000       1.000000       0.000000        7.000000   \n",
       "75%         0.000000      13.000000       1.000000        9.000000   \n",
       "max         1.000000      22.000000       2.000000       13.000000   \n",
       "\n",
       "       registration_init_time  \n",
       "count            8.771610e+05  \n",
       "mean             2.013228e+07  \n",
       "std              2.973484e+04  \n",
       "min              2.004033e+07  \n",
       "25%              2.012021e+07  \n",
       "50%              2.014051e+07  \n",
       "75%              2.016011e+07  \n",
       "max              2.017033e+07  "
      ]
     },
     "execution_count": 36,
     "metadata": {},
     "output_type": "execute_result"
    }
   ],
   "source": [
    "df_train.describe()"
   ]
  },
  {
   "cell_type": "markdown",
   "id": "2c81efad",
   "metadata": {},
   "source": [
    "<h4> merge train + members + user_logs </h4>\n"
   ]
  },
  {
   "cell_type": "code",
   "execution_count": 37,
   "id": "8539af25",
   "metadata": {},
   "outputs": [],
   "source": [
    "df_train = df_train.merge(df_user_logs_v2_agg, how='left', on='msno')"
   ]
  },
  {
   "cell_type": "code",
   "execution_count": 38,
   "id": "6bef95a3",
   "metadata": {
    "scrolled": true
   },
   "outputs": [
    {
     "data": {
      "text/plain": [
       "992931"
      ]
     },
     "execution_count": 38,
     "metadata": {},
     "output_type": "execute_result"
    }
   ],
   "source": [
    "len(df_train)"
   ]
  },
  {
   "cell_type": "code",
   "execution_count": 39,
   "id": "5a6574b7",
   "metadata": {},
   "outputs": [
    {
     "data": {
      "text/plain": [
       "msno                           0\n",
       "is_churn                       0\n",
       "city                      115770\n",
       "gender                    115770\n",
       "registered_via            115770\n",
       "registration_init_time    115770\n",
       "date                      253142\n",
       "num_25                    253142\n",
       "num_50                    253142\n",
       "num_75                    253142\n",
       "num_985                   253142\n",
       "num_100                   253142\n",
       "num_unq                   253142\n",
       "total_secs                253142\n",
       "dtype: int64"
      ]
     },
     "execution_count": 39,
     "metadata": {},
     "output_type": "execute_result"
    }
   ],
   "source": [
    "df_train.isnull().sum()"
   ]
  },
  {
   "cell_type": "code",
   "execution_count": 40,
   "id": "ff0639e0",
   "metadata": {},
   "outputs": [
    {
     "data": {
      "text/html": [
       "<div>\n",
       "<style scoped>\n",
       "    .dataframe tbody tr th:only-of-type {\n",
       "        vertical-align: middle;\n",
       "    }\n",
       "\n",
       "    .dataframe tbody tr th {\n",
       "        vertical-align: top;\n",
       "    }\n",
       "\n",
       "    .dataframe thead th {\n",
       "        text-align: right;\n",
       "    }\n",
       "</style>\n",
       "<table border=\"1\" class=\"dataframe\">\n",
       "  <thead>\n",
       "    <tr style=\"text-align: right;\">\n",
       "      <th></th>\n",
       "      <th>msno</th>\n",
       "      <th>is_churn</th>\n",
       "      <th>city</th>\n",
       "      <th>gender</th>\n",
       "      <th>registered_via</th>\n",
       "      <th>registration_init_time</th>\n",
       "      <th>date</th>\n",
       "      <th>num_25</th>\n",
       "      <th>num_50</th>\n",
       "      <th>num_75</th>\n",
       "      <th>num_985</th>\n",
       "      <th>num_100</th>\n",
       "      <th>num_unq</th>\n",
       "      <th>total_secs</th>\n",
       "    </tr>\n",
       "  </thead>\n",
       "  <tbody>\n",
       "    <tr>\n",
       "      <th>0</th>\n",
       "      <td>waLDQMmcOu2jLDaV1ddDkgCrB/jl6sD66Xzs0Vqax1Y=</td>\n",
       "      <td>1</td>\n",
       "      <td>18.0</td>\n",
       "      <td>2.0</td>\n",
       "      <td>9.0</td>\n",
       "      <td>20050406.0</td>\n",
       "      <td>NaN</td>\n",
       "      <td>NaN</td>\n",
       "      <td>NaN</td>\n",
       "      <td>NaN</td>\n",
       "      <td>NaN</td>\n",
       "      <td>NaN</td>\n",
       "      <td>NaN</td>\n",
       "      <td>NaN</td>\n",
       "    </tr>\n",
       "    <tr>\n",
       "      <th>1</th>\n",
       "      <td>QA7uiXy8vIbUSPOkCf9RwQ3FsT8jVq2OxDr8zqa7bRQ=</td>\n",
       "      <td>1</td>\n",
       "      <td>10.0</td>\n",
       "      <td>1.0</td>\n",
       "      <td>9.0</td>\n",
       "      <td>20050407.0</td>\n",
       "      <td>201703</td>\n",
       "      <td>0.000000</td>\n",
       "      <td>0.000000</td>\n",
       "      <td>0.000000</td>\n",
       "      <td>0.000000</td>\n",
       "      <td>1.000000</td>\n",
       "      <td>1.0</td>\n",
       "      <td>281.600</td>\n",
       "    </tr>\n",
       "    <tr>\n",
       "      <th>2</th>\n",
       "      <td>fGwBva6hikQmTJzrbz/2Ezjm5Cth5jZUNvXigKK2AFA=</td>\n",
       "      <td>1</td>\n",
       "      <td>11.0</td>\n",
       "      <td>2.0</td>\n",
       "      <td>9.0</td>\n",
       "      <td>20051016.0</td>\n",
       "      <td>NaN</td>\n",
       "      <td>NaN</td>\n",
       "      <td>NaN</td>\n",
       "      <td>NaN</td>\n",
       "      <td>NaN</td>\n",
       "      <td>NaN</td>\n",
       "      <td>NaN</td>\n",
       "      <td>NaN</td>\n",
       "    </tr>\n",
       "    <tr>\n",
       "      <th>3</th>\n",
       "      <td>mT5V8rEpa+8wuqi6x0DoVd3H5icMKkE9Prt49UlmK+4=</td>\n",
       "      <td>1</td>\n",
       "      <td>13.0</td>\n",
       "      <td>2.0</td>\n",
       "      <td>9.0</td>\n",
       "      <td>20051102.0</td>\n",
       "      <td>201703</td>\n",
       "      <td>17.800000</td>\n",
       "      <td>4.600000</td>\n",
       "      <td>2.800000</td>\n",
       "      <td>4.200000</td>\n",
       "      <td>20.800000</td>\n",
       "      <td>190.0</td>\n",
       "      <td>32960.902</td>\n",
       "    </tr>\n",
       "    <tr>\n",
       "      <th>4</th>\n",
       "      <td>XaPhtGLk/5UvvOYHcONTwsnH97P4eGECeq+BARGItRw=</td>\n",
       "      <td>1</td>\n",
       "      <td>3.0</td>\n",
       "      <td>1.0</td>\n",
       "      <td>9.0</td>\n",
       "      <td>20051228.0</td>\n",
       "      <td>201703</td>\n",
       "      <td>1.117647</td>\n",
       "      <td>0.352941</td>\n",
       "      <td>0.411765</td>\n",
       "      <td>1.235294</td>\n",
       "      <td>42.058824</td>\n",
       "      <td>756.0</td>\n",
       "      <td>184095.835</td>\n",
       "    </tr>\n",
       "  </tbody>\n",
       "</table>\n",
       "</div>"
      ],
      "text/plain": [
       "                                           msno  is_churn  city  gender   \n",
       "0  waLDQMmcOu2jLDaV1ddDkgCrB/jl6sD66Xzs0Vqax1Y=         1  18.0     2.0  \\\n",
       "1  QA7uiXy8vIbUSPOkCf9RwQ3FsT8jVq2OxDr8zqa7bRQ=         1  10.0     1.0   \n",
       "2  fGwBva6hikQmTJzrbz/2Ezjm5Cth5jZUNvXigKK2AFA=         1  11.0     2.0   \n",
       "3  mT5V8rEpa+8wuqi6x0DoVd3H5icMKkE9Prt49UlmK+4=         1  13.0     2.0   \n",
       "4  XaPhtGLk/5UvvOYHcONTwsnH97P4eGECeq+BARGItRw=         1   3.0     1.0   \n",
       "\n",
       "   registered_via  registration_init_time    date     num_25    num_50   \n",
       "0             9.0              20050406.0     NaN        NaN       NaN  \\\n",
       "1             9.0              20050407.0  201703   0.000000  0.000000   \n",
       "2             9.0              20051016.0     NaN        NaN       NaN   \n",
       "3             9.0              20051102.0  201703  17.800000  4.600000   \n",
       "4             9.0              20051228.0  201703   1.117647  0.352941   \n",
       "\n",
       "     num_75   num_985    num_100  num_unq  total_secs  \n",
       "0       NaN       NaN        NaN      NaN         NaN  \n",
       "1  0.000000  0.000000   1.000000      1.0     281.600  \n",
       "2       NaN       NaN        NaN      NaN         NaN  \n",
       "3  2.800000  4.200000  20.800000    190.0   32960.902  \n",
       "4  0.411765  1.235294  42.058824    756.0  184095.835  "
      ]
     },
     "execution_count": 40,
     "metadata": {},
     "output_type": "execute_result"
    }
   ],
   "source": [
    "df_train.head()"
   ]
  },
  {
   "cell_type": "code",
   "execution_count": 41,
   "id": "ad3a207c",
   "metadata": {
    "scrolled": true
   },
   "outputs": [
    {
     "data": {
      "text/html": [
       "<div>\n",
       "<style scoped>\n",
       "    .dataframe tbody tr th:only-of-type {\n",
       "        vertical-align: middle;\n",
       "    }\n",
       "\n",
       "    .dataframe tbody tr th {\n",
       "        vertical-align: top;\n",
       "    }\n",
       "\n",
       "    .dataframe thead th {\n",
       "        text-align: right;\n",
       "    }\n",
       "</style>\n",
       "<table border=\"1\" class=\"dataframe\">\n",
       "  <thead>\n",
       "    <tr style=\"text-align: right;\">\n",
       "      <th></th>\n",
       "      <th>is_churn</th>\n",
       "      <th>city</th>\n",
       "      <th>gender</th>\n",
       "      <th>registered_via</th>\n",
       "      <th>registration_init_time</th>\n",
       "      <th>num_25</th>\n",
       "      <th>num_50</th>\n",
       "      <th>num_75</th>\n",
       "      <th>num_985</th>\n",
       "      <th>num_100</th>\n",
       "      <th>num_unq</th>\n",
       "      <th>total_secs</th>\n",
       "    </tr>\n",
       "  </thead>\n",
       "  <tbody>\n",
       "    <tr>\n",
       "      <th>count</th>\n",
       "      <td>992931.000000</td>\n",
       "      <td>877161.000000</td>\n",
       "      <td>877161.000000</td>\n",
       "      <td>877161.000000</td>\n",
       "      <td>8.771610e+05</td>\n",
       "      <td>739789.000000</td>\n",
       "      <td>739789.000000</td>\n",
       "      <td>739789.000000</td>\n",
       "      <td>739789.000000</td>\n",
       "      <td>739789.000000</td>\n",
       "      <td>739789.000000</td>\n",
       "      <td>7.397890e+05</td>\n",
       "    </tr>\n",
       "    <tr>\n",
       "      <th>mean</th>\n",
       "      <td>0.063923</td>\n",
       "      <td>5.882329</td>\n",
       "      <td>0.657918</td>\n",
       "      <td>6.911228</td>\n",
       "      <td>2.013228e+07</td>\n",
       "      <td>5.297470</td>\n",
       "      <td>1.294374</td>\n",
       "      <td>0.795682</td>\n",
       "      <td>0.880220</td>\n",
       "      <td>24.602799</td>\n",
       "      <td>511.350843</td>\n",
       "      <td>1.397619e+05</td>\n",
       "    </tr>\n",
       "    <tr>\n",
       "      <th>std</th>\n",
       "      <td>0.244616</td>\n",
       "      <td>6.423447</td>\n",
       "      <td>0.804865</td>\n",
       "      <td>1.904441</td>\n",
       "      <td>2.973484e+04</td>\n",
       "      <td>7.012936</td>\n",
       "      <td>1.775685</td>\n",
       "      <td>0.912753</td>\n",
       "      <td>1.566633</td>\n",
       "      <td>26.772464</td>\n",
       "      <td>594.393782</td>\n",
       "      <td>1.858390e+05</td>\n",
       "    </tr>\n",
       "    <tr>\n",
       "      <th>min</th>\n",
       "      <td>0.000000</td>\n",
       "      <td>1.000000</td>\n",
       "      <td>0.000000</td>\n",
       "      <td>3.000000</td>\n",
       "      <td>2.004033e+07</td>\n",
       "      <td>0.000000</td>\n",
       "      <td>0.000000</td>\n",
       "      <td>0.000000</td>\n",
       "      <td>0.000000</td>\n",
       "      <td>0.000000</td>\n",
       "      <td>1.000000</td>\n",
       "      <td>6.900000e-02</td>\n",
       "    </tr>\n",
       "    <tr>\n",
       "      <th>25%</th>\n",
       "      <td>0.000000</td>\n",
       "      <td>1.000000</td>\n",
       "      <td>0.000000</td>\n",
       "      <td>7.000000</td>\n",
       "      <td>2.012021e+07</td>\n",
       "      <td>1.666667</td>\n",
       "      <td>0.428571</td>\n",
       "      <td>0.285714</td>\n",
       "      <td>0.294118</td>\n",
       "      <td>10.125000</td>\n",
       "      <td>123.000000</td>\n",
       "      <td>3.001571e+04</td>\n",
       "    </tr>\n",
       "    <tr>\n",
       "      <th>50%</th>\n",
       "      <td>0.000000</td>\n",
       "      <td>1.000000</td>\n",
       "      <td>0.000000</td>\n",
       "      <td>7.000000</td>\n",
       "      <td>2.014051e+07</td>\n",
       "      <td>3.409091</td>\n",
       "      <td>0.875000</td>\n",
       "      <td>0.588235</td>\n",
       "      <td>0.600000</td>\n",
       "      <td>17.400000</td>\n",
       "      <td>330.000000</td>\n",
       "      <td>8.259296e+04</td>\n",
       "    </tr>\n",
       "    <tr>\n",
       "      <th>75%</th>\n",
       "      <td>0.000000</td>\n",
       "      <td>13.000000</td>\n",
       "      <td>1.000000</td>\n",
       "      <td>9.000000</td>\n",
       "      <td>2.016011e+07</td>\n",
       "      <td>6.516129</td>\n",
       "      <td>1.600000</td>\n",
       "      <td>1.000000</td>\n",
       "      <td>1.076923</td>\n",
       "      <td>29.181818</td>\n",
       "      <td>680.000000</td>\n",
       "      <td>1.757391e+05</td>\n",
       "    </tr>\n",
       "    <tr>\n",
       "      <th>max</th>\n",
       "      <td>1.000000</td>\n",
       "      <td>22.000000</td>\n",
       "      <td>2.000000</td>\n",
       "      <td>13.000000</td>\n",
       "      <td>2.017033e+07</td>\n",
       "      <td>1510.322581</td>\n",
       "      <td>452.000000</td>\n",
       "      <td>149.000000</td>\n",
       "      <td>489.161290</td>\n",
       "      <td>1922.500000</td>\n",
       "      <td>17001.000000</td>\n",
       "      <td>1.433739e+07</td>\n",
       "    </tr>\n",
       "  </tbody>\n",
       "</table>\n",
       "</div>"
      ],
      "text/plain": [
       "            is_churn           city         gender  registered_via   \n",
       "count  992931.000000  877161.000000  877161.000000   877161.000000  \\\n",
       "mean        0.063923       5.882329       0.657918        6.911228   \n",
       "std         0.244616       6.423447       0.804865        1.904441   \n",
       "min         0.000000       1.000000       0.000000        3.000000   \n",
       "25%         0.000000       1.000000       0.000000        7.000000   \n",
       "50%         0.000000       1.000000       0.000000        7.000000   \n",
       "75%         0.000000      13.000000       1.000000        9.000000   \n",
       "max         1.000000      22.000000       2.000000       13.000000   \n",
       "\n",
       "       registration_init_time         num_25         num_50         num_75   \n",
       "count            8.771610e+05  739789.000000  739789.000000  739789.000000  \\\n",
       "mean             2.013228e+07       5.297470       1.294374       0.795682   \n",
       "std              2.973484e+04       7.012936       1.775685       0.912753   \n",
       "min              2.004033e+07       0.000000       0.000000       0.000000   \n",
       "25%              2.012021e+07       1.666667       0.428571       0.285714   \n",
       "50%              2.014051e+07       3.409091       0.875000       0.588235   \n",
       "75%              2.016011e+07       6.516129       1.600000       1.000000   \n",
       "max              2.017033e+07    1510.322581     452.000000     149.000000   \n",
       "\n",
       "             num_985        num_100        num_unq    total_secs  \n",
       "count  739789.000000  739789.000000  739789.000000  7.397890e+05  \n",
       "mean        0.880220      24.602799     511.350843  1.397619e+05  \n",
       "std         1.566633      26.772464     594.393782  1.858390e+05  \n",
       "min         0.000000       0.000000       1.000000  6.900000e-02  \n",
       "25%         0.294118      10.125000     123.000000  3.001571e+04  \n",
       "50%         0.600000      17.400000     330.000000  8.259296e+04  \n",
       "75%         1.076923      29.181818     680.000000  1.757391e+05  \n",
       "max       489.161290    1922.500000   17001.000000  1.433739e+07  "
      ]
     },
     "execution_count": 41,
     "metadata": {},
     "output_type": "execute_result"
    }
   ],
   "source": [
    "df_train.describe()"
   ]
  },
  {
   "cell_type": "code",
   "execution_count": 42,
   "id": "815157ee",
   "metadata": {},
   "outputs": [
    {
     "data": {
      "text/plain": [
       "msno                       object\n",
       "is_churn                    int64\n",
       "city                      float64\n",
       "gender                    float64\n",
       "registered_via            float64\n",
       "registration_init_time    float64\n",
       "date                       object\n",
       "num_25                    float64\n",
       "num_50                    float64\n",
       "num_75                    float64\n",
       "num_985                   float64\n",
       "num_100                   float64\n",
       "num_unq                   float64\n",
       "total_secs                float64\n",
       "dtype: object"
      ]
     },
     "execution_count": 42,
     "metadata": {},
     "output_type": "execute_result"
    }
   ],
   "source": [
    "df_train.dtypes"
   ]
  },
  {
   "cell_type": "markdown",
   "id": "089fa5e6",
   "metadata": {},
   "source": [
    "<h3> Post-merge - Data cleaning </h3>"
   ]
  },
  {
   "cell_type": "code",
   "execution_count": 81,
   "id": "a2c5244c",
   "metadata": {},
   "outputs": [],
   "source": [
    "# replacing categorical variables null values with \"ns\" for non-specified\n",
    "df_train['gender'].fillna(0, inplace=True)\n",
    "df_train['city'].fillna('ns', inplace=True)\n",
    "# df_train['bd'].fillna('ns', inplace=True)\n",
    "df_train['registered_via'].fillna('ns', inplace=True)\n",
    "\n",
    "# replacing numerical variables null values with \"0\" assuming no usage\n",
    "df_train['num_25'].fillna(0, inplace=True)\n",
    "df_train['num_50'].fillna(0, inplace=True)\n",
    "df_train['num_75'].fillna(0, inplace=True)\n",
    "df_train['num_985'].fillna(0, inplace=True)\n",
    "df_train['num_100'].fillna(0, inplace=True)\n",
    "df_train['num_unq'].fillna(0, inplace=True)\n",
    "df_train['total_secs'].fillna(0, inplace=True)\n",
    "df_train['registration_init_time'].fillna(0, inplace=True) #considering registration time to be epoch 0"
   ]
  },
  {
   "cell_type": "code",
   "execution_count": 82,
   "id": "2f77aaad",
   "metadata": {
    "scrolled": false
   },
   "outputs": [
    {
     "data": {
      "text/plain": [
       "msno                           0\n",
       "is_churn                       0\n",
       "city                           0\n",
       "gender                         0\n",
       "registered_via                 0\n",
       "registration_init_time         0\n",
       "date                      253142\n",
       "num_25                         0\n",
       "num_50                         0\n",
       "num_75                         0\n",
       "num_985                        0\n",
       "num_100                        0\n",
       "num_unq                        0\n",
       "total_secs                     0\n",
       "dtype: int64"
      ]
     },
     "execution_count": 82,
     "metadata": {},
     "output_type": "execute_result"
    }
   ],
   "source": [
    "df_train.isnull().sum() "
   ]
  },
  {
   "cell_type": "markdown",
   "id": "f205a1f5",
   "metadata": {},
   "source": [
    "<h2> Train Validation Test Split </h2>"
   ]
  },
  {
   "cell_type": "code",
   "execution_count": 83,
   "id": "06352807",
   "metadata": {},
   "outputs": [],
   "source": [
    "df_full = df_train"
   ]
  },
  {
   "cell_type": "code",
   "execution_count": 84,
   "id": "462afee6",
   "metadata": {},
   "outputs": [
    {
     "data": {
      "text/plain": [
       "992931"
      ]
     },
     "execution_count": 84,
     "metadata": {},
     "output_type": "execute_result"
    }
   ],
   "source": [
    "len(df_train)"
   ]
  },
  {
   "cell_type": "code",
   "execution_count": 85,
   "id": "8d9b6704",
   "metadata": {},
   "outputs": [],
   "source": [
    "from sklearn.model_selection import train_test_split"
   ]
  },
  {
   "cell_type": "code",
   "execution_count": 86,
   "id": "bb60fe97",
   "metadata": {},
   "outputs": [],
   "source": [
    "df_full_train, df_test = train_test_split(df_full, test_size=0.2, random_state=42)"
   ]
  },
  {
   "cell_type": "code",
   "execution_count": 87,
   "id": "6247404e",
   "metadata": {},
   "outputs": [],
   "source": [
    "df_train, df_val = train_test_split(df_full_train, test_size=0.25, random_state=42)"
   ]
  },
  {
   "cell_type": "code",
   "execution_count": 88,
   "id": "48658e50",
   "metadata": {},
   "outputs": [
    {
     "data": {
      "text/plain": [
       "(992931, 595758, 198586, 198587)"
      ]
     },
     "execution_count": 88,
     "metadata": {},
     "output_type": "execute_result"
    }
   ],
   "source": [
    "len(df_full), len(df_train), len(df_val), len(df_test)"
   ]
  },
  {
   "cell_type": "code",
   "execution_count": 89,
   "id": "c8ea30f3",
   "metadata": {},
   "outputs": [],
   "source": [
    "df_train = df_train.reset_index(drop=True)\n",
    "df_val = df_val.reset_index(drop=True)\n",
    "df_test = df_test.reset_index(drop=True)\n"
   ]
  },
  {
   "cell_type": "code",
   "execution_count": 90,
   "id": "21329701",
   "metadata": {},
   "outputs": [],
   "source": [
    "y_train = df_train.is_churn.values\n",
    "y_val = df_val.is_churn.values\n",
    "y_test = df_test.is_churn.values\n"
   ]
  },
  {
   "cell_type": "code",
   "execution_count": 91,
   "id": "5ab45f25",
   "metadata": {},
   "outputs": [],
   "source": [
    "del df_train['is_churn']\n",
    "del df_val['is_churn']\n",
    "del df_test['is_churn']\n"
   ]
  },
  {
   "cell_type": "code",
   "execution_count": null,
   "id": "f81d0f2c",
   "metadata": {},
   "outputs": [],
   "source": []
  },
  {
   "cell_type": "markdown",
   "id": "4c097004",
   "metadata": {},
   "source": [
    "<h3> EDA </h3>"
   ]
  },
  {
   "cell_type": "code",
   "execution_count": 92,
   "id": "f33909de",
   "metadata": {},
   "outputs": [],
   "source": [
    "df_full_train = df_full_train.reset_index(drop=True)"
   ]
  },
  {
   "cell_type": "code",
   "execution_count": 93,
   "id": "c9225904",
   "metadata": {},
   "outputs": [
    {
     "data": {
      "text/html": [
       "<div>\n",
       "<style scoped>\n",
       "    .dataframe tbody tr th:only-of-type {\n",
       "        vertical-align: middle;\n",
       "    }\n",
       "\n",
       "    .dataframe tbody tr th {\n",
       "        vertical-align: top;\n",
       "    }\n",
       "\n",
       "    .dataframe thead th {\n",
       "        text-align: right;\n",
       "    }\n",
       "</style>\n",
       "<table border=\"1\" class=\"dataframe\">\n",
       "  <thead>\n",
       "    <tr style=\"text-align: right;\">\n",
       "      <th></th>\n",
       "      <th>msno</th>\n",
       "      <th>is_churn</th>\n",
       "      <th>city</th>\n",
       "      <th>gender</th>\n",
       "      <th>registered_via</th>\n",
       "      <th>registration_init_time</th>\n",
       "      <th>date</th>\n",
       "      <th>num_25</th>\n",
       "      <th>num_50</th>\n",
       "      <th>num_75</th>\n",
       "      <th>num_985</th>\n",
       "      <th>num_100</th>\n",
       "      <th>num_unq</th>\n",
       "      <th>total_secs</th>\n",
       "    </tr>\n",
       "  </thead>\n",
       "  <tbody>\n",
       "    <tr>\n",
       "      <th>0</th>\n",
       "      <td>FJZ0yWoLBt5t1jg0XgYWa8ndmUjcYAV2HHM+QHnY4D8=</td>\n",
       "      <td>0</td>\n",
       "      <td>22.0</td>\n",
       "      <td>2.0</td>\n",
       "      <td>7.0</td>\n",
       "      <td>20131107.0</td>\n",
       "      <td>201703</td>\n",
       "      <td>3.375000</td>\n",
       "      <td>0.625000</td>\n",
       "      <td>0.250000</td>\n",
       "      <td>0.375000</td>\n",
       "      <td>15.500000</td>\n",
       "      <td>148.0</td>\n",
       "      <td>31985.235</td>\n",
       "    </tr>\n",
       "    <tr>\n",
       "      <th>1</th>\n",
       "      <td>Bn4M8tvH0ekOYBc5aNSuxEUGcru1VMsRL8BmqsVaTuk=</td>\n",
       "      <td>0</td>\n",
       "      <td>ns</td>\n",
       "      <td>0.0</td>\n",
       "      <td>ns</td>\n",
       "      <td>0.0</td>\n",
       "      <td>NaN</td>\n",
       "      <td>0.000000</td>\n",
       "      <td>0.000000</td>\n",
       "      <td>0.000000</td>\n",
       "      <td>0.000000</td>\n",
       "      <td>0.000000</td>\n",
       "      <td>0.0</td>\n",
       "      <td>0.000</td>\n",
       "    </tr>\n",
       "    <tr>\n",
       "      <th>2</th>\n",
       "      <td>UtKVRpWWZDMS9LAkpmMyGQ5jJFYHuo17L6BtfvbNyfM=</td>\n",
       "      <td>0</td>\n",
       "      <td>1.0</td>\n",
       "      <td>0.0</td>\n",
       "      <td>7.0</td>\n",
       "      <td>20151029.0</td>\n",
       "      <td>201703</td>\n",
       "      <td>9.000000</td>\n",
       "      <td>0.666667</td>\n",
       "      <td>0.333333</td>\n",
       "      <td>0.500000</td>\n",
       "      <td>24.000000</td>\n",
       "      <td>160.0</td>\n",
       "      <td>38111.832</td>\n",
       "    </tr>\n",
       "    <tr>\n",
       "      <th>3</th>\n",
       "      <td>4g6uItpj+/X1+Hx3oOITjvpPAKEjw3BBwoAVWSLyktU=</td>\n",
       "      <td>0</td>\n",
       "      <td>13.0</td>\n",
       "      <td>1.0</td>\n",
       "      <td>7.0</td>\n",
       "      <td>20131207.0</td>\n",
       "      <td>201703</td>\n",
       "      <td>3.833333</td>\n",
       "      <td>0.666667</td>\n",
       "      <td>0.625000</td>\n",
       "      <td>0.875000</td>\n",
       "      <td>38.041667</td>\n",
       "      <td>931.0</td>\n",
       "      <td>225066.425</td>\n",
       "    </tr>\n",
       "    <tr>\n",
       "      <th>4</th>\n",
       "      <td>nynbPI+xk0HMzyA6Yhl/04sc3CYe1fLfIw5OcazPq+g=</td>\n",
       "      <td>0</td>\n",
       "      <td>13.0</td>\n",
       "      <td>1.0</td>\n",
       "      <td>3.0</td>\n",
       "      <td>20130205.0</td>\n",
       "      <td>201703</td>\n",
       "      <td>5.846154</td>\n",
       "      <td>0.769231</td>\n",
       "      <td>0.423077</td>\n",
       "      <td>0.346154</td>\n",
       "      <td>8.538462</td>\n",
       "      <td>376.0</td>\n",
       "      <td>65099.218</td>\n",
       "    </tr>\n",
       "    <tr>\n",
       "      <th>...</th>\n",
       "      <td>...</td>\n",
       "      <td>...</td>\n",
       "      <td>...</td>\n",
       "      <td>...</td>\n",
       "      <td>...</td>\n",
       "      <td>...</td>\n",
       "      <td>...</td>\n",
       "      <td>...</td>\n",
       "      <td>...</td>\n",
       "      <td>...</td>\n",
       "      <td>...</td>\n",
       "      <td>...</td>\n",
       "      <td>...</td>\n",
       "      <td>...</td>\n",
       "    </tr>\n",
       "    <tr>\n",
       "      <th>794339</th>\n",
       "      <td>dbLzgLwnOZMffAFZ2iyVsIV0L25ifeMwa9hZB1qIzb0=</td>\n",
       "      <td>0</td>\n",
       "      <td>14.0</td>\n",
       "      <td>1.0</td>\n",
       "      <td>7.0</td>\n",
       "      <td>20100917.0</td>\n",
       "      <td>201703</td>\n",
       "      <td>3.000000</td>\n",
       "      <td>1.833333</td>\n",
       "      <td>1.000000</td>\n",
       "      <td>1.000000</td>\n",
       "      <td>18.500000</td>\n",
       "      <td>137.0</td>\n",
       "      <td>31810.845</td>\n",
       "    </tr>\n",
       "    <tr>\n",
       "      <th>794340</th>\n",
       "      <td>q0n8vlQpioXSwHcUakJqRanNU/iaL2/X9rklghahixo=</td>\n",
       "      <td>0</td>\n",
       "      <td>22.0</td>\n",
       "      <td>1.0</td>\n",
       "      <td>9.0</td>\n",
       "      <td>20090918.0</td>\n",
       "      <td>201703</td>\n",
       "      <td>1.500000</td>\n",
       "      <td>0.000000</td>\n",
       "      <td>1.000000</td>\n",
       "      <td>0.500000</td>\n",
       "      <td>18.500000</td>\n",
       "      <td>40.0</td>\n",
       "      <td>9686.590</td>\n",
       "    </tr>\n",
       "    <tr>\n",
       "      <th>794341</th>\n",
       "      <td>Oecmj2h7AQJxGTcOrTekHxn9eUJ7W14l4eqvs8FKvIE=</td>\n",
       "      <td>0</td>\n",
       "      <td>ns</td>\n",
       "      <td>0.0</td>\n",
       "      <td>ns</td>\n",
       "      <td>0.0</td>\n",
       "      <td>NaN</td>\n",
       "      <td>0.000000</td>\n",
       "      <td>0.000000</td>\n",
       "      <td>0.000000</td>\n",
       "      <td>0.000000</td>\n",
       "      <td>0.000000</td>\n",
       "      <td>0.0</td>\n",
       "      <td>0.000</td>\n",
       "    </tr>\n",
       "    <tr>\n",
       "      <th>794342</th>\n",
       "      <td>jLS29VjtOH+9f9YRyOOhwR+Tq7b8z3sQw1Dqgx66jEw=</td>\n",
       "      <td>0</td>\n",
       "      <td>ns</td>\n",
       "      <td>0.0</td>\n",
       "      <td>ns</td>\n",
       "      <td>0.0</td>\n",
       "      <td>NaN</td>\n",
       "      <td>0.000000</td>\n",
       "      <td>0.000000</td>\n",
       "      <td>0.000000</td>\n",
       "      <td>0.000000</td>\n",
       "      <td>0.000000</td>\n",
       "      <td>0.0</td>\n",
       "      <td>0.000</td>\n",
       "    </tr>\n",
       "    <tr>\n",
       "      <th>794343</th>\n",
       "      <td>tibZgmoPIPb0kjyHkaOoTbNAaoRrOLacoMdXaG2bnx4=</td>\n",
       "      <td>0</td>\n",
       "      <td>ns</td>\n",
       "      <td>0.0</td>\n",
       "      <td>ns</td>\n",
       "      <td>0.0</td>\n",
       "      <td>NaN</td>\n",
       "      <td>0.000000</td>\n",
       "      <td>0.000000</td>\n",
       "      <td>0.000000</td>\n",
       "      <td>0.000000</td>\n",
       "      <td>0.000000</td>\n",
       "      <td>0.0</td>\n",
       "      <td>0.000</td>\n",
       "    </tr>\n",
       "  </tbody>\n",
       "</table>\n",
       "<p>794344 rows × 14 columns</p>\n",
       "</div>"
      ],
      "text/plain": [
       "                                                msno  is_churn  city  gender   \n",
       "0       FJZ0yWoLBt5t1jg0XgYWa8ndmUjcYAV2HHM+QHnY4D8=         0  22.0     2.0  \\\n",
       "1       Bn4M8tvH0ekOYBc5aNSuxEUGcru1VMsRL8BmqsVaTuk=         0    ns     0.0   \n",
       "2       UtKVRpWWZDMS9LAkpmMyGQ5jJFYHuo17L6BtfvbNyfM=         0   1.0     0.0   \n",
       "3       4g6uItpj+/X1+Hx3oOITjvpPAKEjw3BBwoAVWSLyktU=         0  13.0     1.0   \n",
       "4       nynbPI+xk0HMzyA6Yhl/04sc3CYe1fLfIw5OcazPq+g=         0  13.0     1.0   \n",
       "...                                              ...       ...   ...     ...   \n",
       "794339  dbLzgLwnOZMffAFZ2iyVsIV0L25ifeMwa9hZB1qIzb0=         0  14.0     1.0   \n",
       "794340  q0n8vlQpioXSwHcUakJqRanNU/iaL2/X9rklghahixo=         0  22.0     1.0   \n",
       "794341  Oecmj2h7AQJxGTcOrTekHxn9eUJ7W14l4eqvs8FKvIE=         0    ns     0.0   \n",
       "794342  jLS29VjtOH+9f9YRyOOhwR+Tq7b8z3sQw1Dqgx66jEw=         0    ns     0.0   \n",
       "794343  tibZgmoPIPb0kjyHkaOoTbNAaoRrOLacoMdXaG2bnx4=         0    ns     0.0   \n",
       "\n",
       "       registered_via  registration_init_time    date    num_25    num_50   \n",
       "0                 7.0              20131107.0  201703  3.375000  0.625000  \\\n",
       "1                  ns                     0.0     NaN  0.000000  0.000000   \n",
       "2                 7.0              20151029.0  201703  9.000000  0.666667   \n",
       "3                 7.0              20131207.0  201703  3.833333  0.666667   \n",
       "4                 3.0              20130205.0  201703  5.846154  0.769231   \n",
       "...               ...                     ...     ...       ...       ...   \n",
       "794339            7.0              20100917.0  201703  3.000000  1.833333   \n",
       "794340            9.0              20090918.0  201703  1.500000  0.000000   \n",
       "794341             ns                     0.0     NaN  0.000000  0.000000   \n",
       "794342             ns                     0.0     NaN  0.000000  0.000000   \n",
       "794343             ns                     0.0     NaN  0.000000  0.000000   \n",
       "\n",
       "          num_75   num_985    num_100  num_unq  total_secs  \n",
       "0       0.250000  0.375000  15.500000    148.0   31985.235  \n",
       "1       0.000000  0.000000   0.000000      0.0       0.000  \n",
       "2       0.333333  0.500000  24.000000    160.0   38111.832  \n",
       "3       0.625000  0.875000  38.041667    931.0  225066.425  \n",
       "4       0.423077  0.346154   8.538462    376.0   65099.218  \n",
       "...          ...       ...        ...      ...         ...  \n",
       "794339  1.000000  1.000000  18.500000    137.0   31810.845  \n",
       "794340  1.000000  0.500000  18.500000     40.0    9686.590  \n",
       "794341  0.000000  0.000000   0.000000      0.0       0.000  \n",
       "794342  0.000000  0.000000   0.000000      0.0       0.000  \n",
       "794343  0.000000  0.000000   0.000000      0.0       0.000  \n",
       "\n",
       "[794344 rows x 14 columns]"
      ]
     },
     "execution_count": 93,
     "metadata": {},
     "output_type": "execute_result"
    }
   ],
   "source": [
    "df_full_train"
   ]
  },
  {
   "cell_type": "markdown",
   "id": "e967ce17",
   "metadata": {},
   "source": [
    "<h4> Check null values in df_train </h4>"
   ]
  },
  {
   "cell_type": "code",
   "execution_count": 94,
   "id": "69df0a94",
   "metadata": {},
   "outputs": [
    {
     "data": {
      "text/plain": [
       "msno                           0\n",
       "is_churn                       0\n",
       "city                           0\n",
       "gender                         0\n",
       "registered_via                 0\n",
       "registration_init_time         0\n",
       "date                      202667\n",
       "num_25                         0\n",
       "num_50                         0\n",
       "num_75                         0\n",
       "num_985                        0\n",
       "num_100                        0\n",
       "num_unq                        0\n",
       "total_secs                     0\n",
       "dtype: int64"
      ]
     },
     "execution_count": 94,
     "metadata": {},
     "output_type": "execute_result"
    }
   ],
   "source": [
    "df_full_train.isnull().sum() "
   ]
  },
  {
   "cell_type": "markdown",
   "id": "49903423",
   "metadata": {},
   "source": [
    "<h3> Feature Importance (Categorical Features) </h3>"
   ]
  },
  {
   "cell_type": "markdown",
   "id": "cbe8df3c",
   "metadata": {},
   "source": [
    "<h4> Check value counts for churn </h4>"
   ]
  },
  {
   "cell_type": "code",
   "execution_count": 95,
   "id": "a80597f9",
   "metadata": {},
   "outputs": [
    {
     "data": {
      "text/plain": [
       "is_churn\n",
       "0    743497\n",
       "1     50847\n",
       "Name: count, dtype: int64"
      ]
     },
     "execution_count": 95,
     "metadata": {},
     "output_type": "execute_result"
    }
   ],
   "source": [
    "df_full_train.is_churn.value_counts()"
   ]
  },
  {
   "cell_type": "code",
   "execution_count": 96,
   "id": "269da9c6",
   "metadata": {},
   "outputs": [
    {
     "data": {
      "text/plain": [
       "is_churn\n",
       "0    0.935989\n",
       "1    0.064011\n",
       "Name: proportion, dtype: float64"
      ]
     },
     "execution_count": 96,
     "metadata": {},
     "output_type": "execute_result"
    }
   ],
   "source": [
    "df_full_train.is_churn.value_counts(normalize=True)"
   ]
  },
  {
   "cell_type": "markdown",
   "id": "cca3b87e",
   "metadata": {},
   "source": [
    "<h4> Global Churn Rate </h4>"
   ]
  },
  {
   "cell_type": "code",
   "execution_count": 97,
   "id": "41d9e305",
   "metadata": {
    "scrolled": true
   },
   "outputs": [
    {
     "data": {
      "text/plain": [
       "0.064"
      ]
     },
     "execution_count": 97,
     "metadata": {},
     "output_type": "execute_result"
    }
   ],
   "source": [
    "global_churn_rate = df_full_train.is_churn.mean()\n",
    "round(global_churn_rate,3)"
   ]
  },
  {
   "cell_type": "markdown",
   "id": "f17b44f8",
   "metadata": {},
   "source": [
    "<h4> df_train data_types </h4>"
   ]
  },
  {
   "cell_type": "code",
   "execution_count": 98,
   "id": "736e4208",
   "metadata": {
    "scrolled": true
   },
   "outputs": [
    {
     "data": {
      "text/plain": [
       "msno                       object\n",
       "is_churn                    int64\n",
       "city                       object\n",
       "gender                    float64\n",
       "registered_via             object\n",
       "registration_init_time    float64\n",
       "date                       object\n",
       "num_25                    float64\n",
       "num_50                    float64\n",
       "num_75                    float64\n",
       "num_985                   float64\n",
       "num_100                   float64\n",
       "num_unq                   float64\n",
       "total_secs                float64\n",
       "dtype: object"
      ]
     },
     "execution_count": 98,
     "metadata": {},
     "output_type": "execute_result"
    }
   ],
   "source": [
    "df_full_train.dtypes"
   ]
  },
  {
   "cell_type": "markdown",
   "id": "80b7520a",
   "metadata": {},
   "source": [
    "<h4> Separate numerical and categorical columns </h4>"
   ]
  },
  {
   "cell_type": "code",
   "execution_count": 99,
   "id": "bb3ec633",
   "metadata": {},
   "outputs": [],
   "source": [
    "numerical = ['registration_init_time', 'num_25', 'num_50', 'num_75', 'num_985', 'num_100', 'num_unq', 'total_secs']"
   ]
  },
  {
   "cell_type": "code",
   "execution_count": 100,
   "id": "3ab48f63",
   "metadata": {},
   "outputs": [
    {
     "data": {
      "text/plain": [
       "Index(['msno', 'is_churn', 'city', 'gender', 'registered_via',\n",
       "       'registration_init_time', 'date', 'num_25', 'num_50', 'num_75',\n",
       "       'num_985', 'num_100', 'num_unq', 'total_secs'],\n",
       "      dtype='object')"
      ]
     },
     "execution_count": 100,
     "metadata": {},
     "output_type": "execute_result"
    }
   ],
   "source": [
    "df_full_train.columns"
   ]
  },
  {
   "cell_type": "code",
   "execution_count": 101,
   "id": "679b679e",
   "metadata": {},
   "outputs": [],
   "source": [
    "categorical = ['gender', 'registered_via', 'city']"
   ]
  },
  {
   "cell_type": "code",
   "execution_count": 102,
   "id": "9622075a",
   "metadata": {
    "scrolled": true
   },
   "outputs": [
    {
     "data": {
      "text/plain": [
       "gender             3\n",
       "registered_via     6\n",
       "city              22\n",
       "dtype: int64"
      ]
     },
     "execution_count": 102,
     "metadata": {},
     "output_type": "execute_result"
    }
   ],
   "source": [
    "df_full_train[categorical].nunique()"
   ]
  },
  {
   "cell_type": "markdown",
   "id": "37e5c4df",
   "metadata": {},
   "source": [
    "<h4> Churn rate based on gender </h4>"
   ]
  },
  {
   "cell_type": "code",
   "execution_count": 103,
   "id": "9c407ed8",
   "metadata": {},
   "outputs": [
    {
     "data": {
      "text/plain": [
       "gender\n",
       "0.0    0.605579\n",
       "1.0    0.207748\n",
       "2.0    0.186674\n",
       "Name: proportion, dtype: float64"
      ]
     },
     "execution_count": 103,
     "metadata": {},
     "output_type": "execute_result"
    }
   ],
   "source": [
    "df_full_train.gender.value_counts(normalize=True)"
   ]
  },
  {
   "cell_type": "code",
   "execution_count": 104,
   "id": "6423b79b",
   "metadata": {},
   "outputs": [
    {
     "data": {
      "text/plain": [
       "0.049"
      ]
     },
     "execution_count": 104,
     "metadata": {},
     "output_type": "execute_result"
    }
   ],
   "source": [
    "is_churn_gender_na = round(df_full_train[df_full_train.gender==0].is_churn.mean(),3)\n",
    "is_churn_gender_na"
   ]
  },
  {
   "cell_type": "code",
   "execution_count": 105,
   "id": "6b2733d1",
   "metadata": {},
   "outputs": [
    {
     "data": {
      "text/plain": [
       "0.089"
      ]
     },
     "execution_count": 105,
     "metadata": {},
     "output_type": "execute_result"
    }
   ],
   "source": [
    "is_churn_gender_male = round(df_full_train[df_full_train.gender==1].is_churn.mean(),3)\n",
    "is_churn_gender_male"
   ]
  },
  {
   "cell_type": "code",
   "execution_count": 106,
   "id": "7994003c",
   "metadata": {},
   "outputs": [
    {
     "data": {
      "text/plain": [
       "0.087"
      ]
     },
     "execution_count": 106,
     "metadata": {},
     "output_type": "execute_result"
    }
   ],
   "source": [
    "is_churn_gender_female = round(df_full_train[df_full_train.gender==2].is_churn.mean(),3)\n",
    "is_churn_gender_female"
   ]
  },
  {
   "cell_type": "code",
   "execution_count": 107,
   "id": "5214b84b",
   "metadata": {
    "scrolled": true
   },
   "outputs": [
    {
     "data": {
      "text/plain": [
       "0.064"
      ]
     },
     "execution_count": 107,
     "metadata": {},
     "output_type": "execute_result"
    }
   ],
   "source": [
    "global_churn_rate = df_full_train.is_churn.mean()\n",
    "round(global_churn_rate,3)"
   ]
  },
  {
   "cell_type": "code",
   "execution_count": 108,
   "id": "ebacbf80",
   "metadata": {},
   "outputs": [
    {
     "data": {
      "text/plain": [
       "0.015"
      ]
     },
     "execution_count": 108,
     "metadata": {},
     "output_type": "execute_result"
    }
   ],
   "source": [
    "round(global_churn_rate - is_churn_gender_na, 3)"
   ]
  },
  {
   "cell_type": "code",
   "execution_count": 109,
   "id": "c9215873",
   "metadata": {},
   "outputs": [
    {
     "data": {
      "text/plain": [
       "-0.025"
      ]
     },
     "execution_count": 109,
     "metadata": {},
     "output_type": "execute_result"
    }
   ],
   "source": [
    "round(global_churn_rate - is_churn_gender_male, 3)"
   ]
  },
  {
   "cell_type": "code",
   "execution_count": 110,
   "id": "8bd904c3",
   "metadata": {},
   "outputs": [
    {
     "data": {
      "text/plain": [
       "-0.023"
      ]
     },
     "execution_count": 110,
     "metadata": {},
     "output_type": "execute_result"
    }
   ],
   "source": [
    "round(global_churn_rate - is_churn_gender_female, 3)"
   ]
  },
  {
   "cell_type": "markdown",
   "id": "e804f34f",
   "metadata": {},
   "source": [
    "<h4> Gender Risk Ratio </h4>"
   ]
  },
  {
   "cell_type": "code",
   "execution_count": 111,
   "id": "1958759c",
   "metadata": {},
   "outputs": [
    {
     "data": {
      "text/plain": [
       "0.77"
      ]
     },
     "execution_count": 111,
     "metadata": {},
     "output_type": "execute_result"
    }
   ],
   "source": [
    "round(is_churn_gender_na/global_churn_rate,2)"
   ]
  },
  {
   "cell_type": "code",
   "execution_count": 112,
   "id": "cfad1849",
   "metadata": {},
   "outputs": [
    {
     "data": {
      "text/plain": [
       "1.39"
      ]
     },
     "execution_count": 112,
     "metadata": {},
     "output_type": "execute_result"
    }
   ],
   "source": [
    "round(is_churn_gender_male/global_churn_rate,2)"
   ]
  },
  {
   "cell_type": "code",
   "execution_count": 113,
   "id": "e447c28c",
   "metadata": {},
   "outputs": [
    {
     "data": {
      "text/plain": [
       "1.36"
      ]
     },
     "execution_count": 113,
     "metadata": {},
     "output_type": "execute_result"
    }
   ],
   "source": [
    "round(is_churn_gender_female/global_churn_rate,2)"
   ]
  },
  {
   "cell_type": "markdown",
   "id": "167366f7",
   "metadata": {},
   "source": [
    "<h4> Churn rate based on registration source </h4>"
   ]
  },
  {
   "cell_type": "code",
   "execution_count": 114,
   "id": "8c63b2fa",
   "metadata": {},
   "outputs": [
    {
     "data": {
      "text/plain": [
       "array([7.0, 'ns', 3.0, 9.0, 4.0, 13.0], dtype=object)"
      ]
     },
     "execution_count": 114,
     "metadata": {},
     "output_type": "execute_result"
    }
   ],
   "source": [
    "df_full_train['registered_via'].unique()"
   ]
  },
  {
   "cell_type": "code",
   "execution_count": 115,
   "id": "a2ddeaf7",
   "metadata": {},
   "outputs": [
    {
     "data": {
      "text/plain": [
       "registered_via\n",
       "7.0     0.486438\n",
       "9.0     0.238234\n",
       "ns      0.116597\n",
       "3.0     0.106042\n",
       "4.0     0.049582\n",
       "13.0    0.003107\n",
       "Name: proportion, dtype: float64"
      ]
     },
     "execution_count": 115,
     "metadata": {},
     "output_type": "execute_result"
    }
   ],
   "source": [
    "df_full_train.registered_via.value_counts(normalize=True)"
   ]
  },
  {
   "cell_type": "code",
   "execution_count": 116,
   "id": "f245b712",
   "metadata": {},
   "outputs": [
    {
     "data": {
      "text/plain": [
       "0.03"
      ]
     },
     "execution_count": 116,
     "metadata": {},
     "output_type": "execute_result"
    }
   ],
   "source": [
    "is_churn_registered_via_7 = round(df_full_train[df_full_train.registered_via==7].is_churn.mean(),3)\n",
    "is_churn_registered_via_7"
   ]
  },
  {
   "cell_type": "code",
   "execution_count": 117,
   "id": "0de075e3",
   "metadata": {},
   "outputs": [
    {
     "data": {
      "text/plain": [
       "0.086"
      ]
     },
     "execution_count": 117,
     "metadata": {},
     "output_type": "execute_result"
    }
   ],
   "source": [
    "is_churn_registered_via_9 = round(df_full_train[df_full_train.registered_via==9].is_churn.mean(),3)\n",
    "is_churn_registered_via_9"
   ]
  },
  {
   "cell_type": "code",
   "execution_count": 118,
   "id": "9e73cb9b",
   "metadata": {},
   "outputs": [
    {
     "data": {
      "text/plain": [
       "0.128"
      ]
     },
     "execution_count": 118,
     "metadata": {},
     "output_type": "execute_result"
    }
   ],
   "source": [
    "is_churn_registered_via_3 = round(df_full_train[df_full_train.registered_via==3].is_churn.mean(),3)\n",
    "is_churn_registered_via_3"
   ]
  },
  {
   "cell_type": "code",
   "execution_count": 119,
   "id": "298e2b3f",
   "metadata": {},
   "outputs": [
    {
     "data": {
      "text/plain": [
       "0.183"
      ]
     },
     "execution_count": 119,
     "metadata": {},
     "output_type": "execute_result"
    }
   ],
   "source": [
    "is_churn_registered_via_4 = round(df_full_train[df_full_train.registered_via==4].is_churn.mean(),3)\n",
    "is_churn_registered_via_4"
   ]
  },
  {
   "cell_type": "code",
   "execution_count": 120,
   "id": "1cb3dd10",
   "metadata": {},
   "outputs": [
    {
     "data": {
      "text/plain": [
       "0.088"
      ]
     },
     "execution_count": 120,
     "metadata": {},
     "output_type": "execute_result"
    }
   ],
   "source": [
    "is_churn_registered_via_13 = round(df_full_train[df_full_train.registered_via==13].is_churn.mean(),3)\n",
    "is_churn_registered_via_13"
   ]
  },
  {
   "cell_type": "code",
   "execution_count": 131,
   "id": "b59e44a8",
   "metadata": {},
   "outputs": [
    {
     "data": {
      "text/plain": [
       "0.05"
      ]
     },
     "execution_count": 131,
     "metadata": {},
     "output_type": "execute_result"
    }
   ],
   "source": [
    "is_churn_registered_via_isna = round(df_full_train[df_full_train.registered_via=='ns'].is_churn.mean(),3)\n",
    "is_churn_registered_via_isna"
   ]
  },
  {
   "cell_type": "code",
   "execution_count": 122,
   "id": "4edf66f4",
   "metadata": {},
   "outputs": [
    {
     "data": {
      "text/plain": [
       "0.064"
      ]
     },
     "execution_count": 122,
     "metadata": {},
     "output_type": "execute_result"
    }
   ],
   "source": [
    "global_churn_rate = df_full_train.is_churn.mean()\n",
    "round(global_churn_rate,3)"
   ]
  },
  {
   "cell_type": "code",
   "execution_count": 123,
   "id": "3895ee69",
   "metadata": {},
   "outputs": [
    {
     "data": {
      "text/plain": [
       "0.034"
      ]
     },
     "execution_count": 123,
     "metadata": {},
     "output_type": "execute_result"
    }
   ],
   "source": [
    "round(global_churn_rate - is_churn_registered_via_7,3)"
   ]
  },
  {
   "cell_type": "code",
   "execution_count": 124,
   "id": "c063bd0b",
   "metadata": {},
   "outputs": [
    {
     "data": {
      "text/plain": [
       "-0.02198869"
      ]
     },
     "execution_count": 124,
     "metadata": {},
     "output_type": "execute_result"
    }
   ],
   "source": [
    "round(global_churn_rate - is_churn_registered_via_9,9)"
   ]
  },
  {
   "cell_type": "code",
   "execution_count": 125,
   "id": "4c5a7a3b",
   "metadata": {},
   "outputs": [
    {
     "data": {
      "text/plain": [
       "-0.064"
      ]
     },
     "execution_count": 125,
     "metadata": {},
     "output_type": "execute_result"
    }
   ],
   "source": [
    "round(global_churn_rate - is_churn_registered_via_3,3)"
   ]
  },
  {
   "cell_type": "code",
   "execution_count": 126,
   "id": "7eeb3a7a",
   "metadata": {},
   "outputs": [
    {
     "data": {
      "text/plain": [
       "-0.119"
      ]
     },
     "execution_count": 126,
     "metadata": {},
     "output_type": "execute_result"
    }
   ],
   "source": [
    "round(global_churn_rate - is_churn_registered_via_4,3)"
   ]
  },
  {
   "cell_type": "code",
   "execution_count": 127,
   "id": "8028ddcd",
   "metadata": {},
   "outputs": [
    {
     "data": {
      "text/plain": [
       "-0.024"
      ]
     },
     "execution_count": 127,
     "metadata": {},
     "output_type": "execute_result"
    }
   ],
   "source": [
    "round(global_churn_rate - is_churn_registered_via_13,3)"
   ]
  },
  {
   "cell_type": "code",
   "execution_count": 132,
   "id": "88f7aacd",
   "metadata": {},
   "outputs": [
    {
     "data": {
      "text/plain": [
       "0.014"
      ]
     },
     "execution_count": 132,
     "metadata": {},
     "output_type": "execute_result"
    }
   ],
   "source": [
    "round(global_churn_rate - is_churn_registered_via_isna,3)"
   ]
  },
  {
   "cell_type": "markdown",
   "id": "6f21ca95",
   "metadata": {},
   "source": [
    "<h4> Registered via Risk Ratio </h4>"
   ]
  },
  {
   "cell_type": "code",
   "execution_count": 133,
   "id": "b1559a39",
   "metadata": {},
   "outputs": [
    {
     "data": {
      "text/plain": [
       "0.469"
      ]
     },
     "execution_count": 133,
     "metadata": {},
     "output_type": "execute_result"
    }
   ],
   "source": [
    "round(is_churn_registered_via_7/global_churn_rate,3)"
   ]
  },
  {
   "cell_type": "code",
   "execution_count": 134,
   "id": "4ed2d17e",
   "metadata": {},
   "outputs": [
    {
     "data": {
      "text/plain": [
       "1.344"
      ]
     },
     "execution_count": 134,
     "metadata": {},
     "output_type": "execute_result"
    }
   ],
   "source": [
    "round(is_churn_registered_via_9/global_churn_rate,3)"
   ]
  },
  {
   "cell_type": "code",
   "execution_count": 135,
   "id": "e5082f88",
   "metadata": {},
   "outputs": [
    {
     "data": {
      "text/plain": [
       "2.0"
      ]
     },
     "execution_count": 135,
     "metadata": {},
     "output_type": "execute_result"
    }
   ],
   "source": [
    "round(is_churn_registered_via_3/global_churn_rate,3)"
   ]
  },
  {
   "cell_type": "code",
   "execution_count": 136,
   "id": "dadc8c5d",
   "metadata": {},
   "outputs": [
    {
     "data": {
      "text/plain": [
       "2.859"
      ]
     },
     "execution_count": 136,
     "metadata": {},
     "output_type": "execute_result"
    }
   ],
   "source": [
    "round(is_churn_registered_via_4/global_churn_rate,3)"
   ]
  },
  {
   "cell_type": "code",
   "execution_count": 137,
   "id": "cfbb053f",
   "metadata": {},
   "outputs": [
    {
     "data": {
      "text/plain": [
       "1.375"
      ]
     },
     "execution_count": 137,
     "metadata": {},
     "output_type": "execute_result"
    }
   ],
   "source": [
    "round(is_churn_registered_via_13/global_churn_rate,3)"
   ]
  },
  {
   "cell_type": "code",
   "execution_count": 138,
   "id": "4b07fc0b",
   "metadata": {},
   "outputs": [
    {
     "data": {
      "text/plain": [
       "0.781"
      ]
     },
     "execution_count": 138,
     "metadata": {},
     "output_type": "execute_result"
    }
   ],
   "source": [
    "round(is_churn_registered_via_isna/global_churn_rate,3)"
   ]
  },
  {
   "cell_type": "code",
   "execution_count": 139,
   "id": "4dba4bfc",
   "metadata": {},
   "outputs": [
    {
     "name": "stdout",
     "output_type": "stream",
     "text": [
      "gender\n"
     ]
    },
    {
     "data": {
      "text/html": [
       "<div>\n",
       "<style scoped>\n",
       "    .dataframe tbody tr th:only-of-type {\n",
       "        vertical-align: middle;\n",
       "    }\n",
       "\n",
       "    .dataframe tbody tr th {\n",
       "        vertical-align: top;\n",
       "    }\n",
       "\n",
       "    .dataframe thead th {\n",
       "        text-align: right;\n",
       "    }\n",
       "</style>\n",
       "<table border=\"1\" class=\"dataframe\">\n",
       "  <thead>\n",
       "    <tr style=\"text-align: right;\">\n",
       "      <th>gender</th>\n",
       "      <th>1.0</th>\n",
       "      <th>2.0</th>\n",
       "      <th>0.0</th>\n",
       "    </tr>\n",
       "  </thead>\n",
       "  <tbody>\n",
       "    <tr>\n",
       "      <th>min</th>\n",
       "      <td>0.000000</td>\n",
       "      <td>0.00000</td>\n",
       "      <td>0.000000</td>\n",
       "    </tr>\n",
       "    <tr>\n",
       "      <th>max</th>\n",
       "      <td>1.000000</td>\n",
       "      <td>1.00000</td>\n",
       "      <td>1.000000</td>\n",
       "    </tr>\n",
       "    <tr>\n",
       "      <th>mean</th>\n",
       "      <td>0.088721</td>\n",
       "      <td>0.08651</td>\n",
       "      <td>0.048599</td>\n",
       "    </tr>\n",
       "    <tr>\n",
       "      <th>count</th>\n",
       "      <td>165023.000000</td>\n",
       "      <td>148283.00000</td>\n",
       "      <td>481038.000000</td>\n",
       "    </tr>\n",
       "    <tr>\n",
       "      <th>diff</th>\n",
       "      <td>0.025000</td>\n",
       "      <td>0.02200</td>\n",
       "      <td>-0.015000</td>\n",
       "    </tr>\n",
       "    <tr>\n",
       "      <th>risk</th>\n",
       "      <td>1.390000</td>\n",
       "      <td>1.35000</td>\n",
       "      <td>0.760000</td>\n",
       "    </tr>\n",
       "  </tbody>\n",
       "</table>\n",
       "</div>"
      ],
      "text/plain": [
       "gender            1.0           2.0            0.0\n",
       "min          0.000000       0.00000       0.000000\n",
       "max          1.000000       1.00000       1.000000\n",
       "mean         0.088721       0.08651       0.048599\n",
       "count   165023.000000  148283.00000  481038.000000\n",
       "diff         0.025000       0.02200      -0.015000\n",
       "risk         1.390000       1.35000       0.760000"
      ]
     },
     "metadata": {},
     "output_type": "display_data"
    },
    {
     "name": "stdout",
     "output_type": "stream",
     "text": [
      "\n",
      "\n",
      "registered_via\n"
     ]
    },
    {
     "data": {
      "text/html": [
       "<div>\n",
       "<style scoped>\n",
       "    .dataframe tbody tr th:only-of-type {\n",
       "        vertical-align: middle;\n",
       "    }\n",
       "\n",
       "    .dataframe tbody tr th {\n",
       "        vertical-align: top;\n",
       "    }\n",
       "\n",
       "    .dataframe thead th {\n",
       "        text-align: right;\n",
       "    }\n",
       "</style>\n",
       "<table border=\"1\" class=\"dataframe\">\n",
       "  <thead>\n",
       "    <tr style=\"text-align: right;\">\n",
       "      <th>registered_via</th>\n",
       "      <th>4.0</th>\n",
       "      <th>3.0</th>\n",
       "      <th>13.0</th>\n",
       "      <th>9.0</th>\n",
       "      <th>ns</th>\n",
       "      <th>7.0</th>\n",
       "    </tr>\n",
       "  </thead>\n",
       "  <tbody>\n",
       "    <tr>\n",
       "      <th>min</th>\n",
       "      <td>0.000000</td>\n",
       "      <td>0.000000</td>\n",
       "      <td>0.00000</td>\n",
       "      <td>0.000000</td>\n",
       "      <td>0.00000</td>\n",
       "      <td>0.000000</td>\n",
       "    </tr>\n",
       "    <tr>\n",
       "      <th>max</th>\n",
       "      <td>1.000000</td>\n",
       "      <td>1.000000</td>\n",
       "      <td>1.00000</td>\n",
       "      <td>1.000000</td>\n",
       "      <td>1.00000</td>\n",
       "      <td>1.000000</td>\n",
       "    </tr>\n",
       "    <tr>\n",
       "      <th>mean</th>\n",
       "      <td>0.182912</td>\n",
       "      <td>0.127882</td>\n",
       "      <td>0.08752</td>\n",
       "      <td>0.086493</td>\n",
       "      <td>0.04972</td>\n",
       "      <td>0.030233</td>\n",
       "    </tr>\n",
       "    <tr>\n",
       "      <th>count</th>\n",
       "      <td>39385.000000</td>\n",
       "      <td>84234.000000</td>\n",
       "      <td>2468.00000</td>\n",
       "      <td>189240.000000</td>\n",
       "      <td>92618.00000</td>\n",
       "      <td>386399.000000</td>\n",
       "    </tr>\n",
       "    <tr>\n",
       "      <th>diff</th>\n",
       "      <td>0.119000</td>\n",
       "      <td>0.064000</td>\n",
       "      <td>0.02400</td>\n",
       "      <td>0.022000</td>\n",
       "      <td>-0.01400</td>\n",
       "      <td>-0.034000</td>\n",
       "    </tr>\n",
       "    <tr>\n",
       "      <th>risk</th>\n",
       "      <td>2.860000</td>\n",
       "      <td>2.000000</td>\n",
       "      <td>1.37000</td>\n",
       "      <td>1.350000</td>\n",
       "      <td>0.78000</td>\n",
       "      <td>0.470000</td>\n",
       "    </tr>\n",
       "  </tbody>\n",
       "</table>\n",
       "</div>"
      ],
      "text/plain": [
       "registered_via           4.0           3.0        13.0            9.0   \n",
       "min                 0.000000      0.000000     0.00000       0.000000  \\\n",
       "max                 1.000000      1.000000     1.00000       1.000000   \n",
       "mean                0.182912      0.127882     0.08752       0.086493   \n",
       "count           39385.000000  84234.000000  2468.00000  189240.000000   \n",
       "diff                0.119000      0.064000     0.02400       0.022000   \n",
       "risk                2.860000      2.000000     1.37000       1.350000   \n",
       "\n",
       "registered_via           ns            7.0  \n",
       "min                 0.00000       0.000000  \n",
       "max                 1.00000       1.000000  \n",
       "mean                0.04972       0.030233  \n",
       "count           92618.00000  386399.000000  \n",
       "diff               -0.01400      -0.034000  \n",
       "risk                0.78000       0.470000  "
      ]
     },
     "metadata": {},
     "output_type": "display_data"
    },
    {
     "name": "stdout",
     "output_type": "stream",
     "text": [
      "\n",
      "\n",
      "city\n"
     ]
    },
    {
     "data": {
      "text/html": [
       "<div>\n",
       "<style scoped>\n",
       "    .dataframe tbody tr th:only-of-type {\n",
       "        vertical-align: middle;\n",
       "    }\n",
       "\n",
       "    .dataframe tbody tr th {\n",
       "        vertical-align: top;\n",
       "    }\n",
       "\n",
       "    .dataframe thead th {\n",
       "        text-align: right;\n",
       "    }\n",
       "</style>\n",
       "<table border=\"1\" class=\"dataframe\">\n",
       "  <thead>\n",
       "    <tr style=\"text-align: right;\">\n",
       "      <th>city</th>\n",
       "      <th>21.0</th>\n",
       "      <th>8.0</th>\n",
       "      <th>12.0</th>\n",
       "      <th>10.0</th>\n",
       "      <th>4.0</th>\n",
       "      <th>5.0</th>\n",
       "      <th>20.0</th>\n",
       "      <th>6.0</th>\n",
       "      <th>15.0</th>\n",
       "      <th>22.0</th>\n",
       "      <th>...</th>\n",
       "      <th>18.0</th>\n",
       "      <th>13.0</th>\n",
       "      <th>3.0</th>\n",
       "      <th>14.0</th>\n",
       "      <th>16.0</th>\n",
       "      <th>17.0</th>\n",
       "      <th>7.0</th>\n",
       "      <th>19.0</th>\n",
       "      <th>ns</th>\n",
       "      <th>1.0</th>\n",
       "    </tr>\n",
       "  </thead>\n",
       "  <tbody>\n",
       "    <tr>\n",
       "      <th>min</th>\n",
       "      <td>0.000000</td>\n",
       "      <td>0.000000</td>\n",
       "      <td>0.000000</td>\n",
       "      <td>0.000000</td>\n",
       "      <td>0.000000</td>\n",
       "      <td>0.000000</td>\n",
       "      <td>0.000000</td>\n",
       "      <td>0.000000</td>\n",
       "      <td>0.000000</td>\n",
       "      <td>0.000000</td>\n",
       "      <td>...</td>\n",
       "      <td>0.000000</td>\n",
       "      <td>0.000000</td>\n",
       "      <td>0.000000</td>\n",
       "      <td>0.000000</td>\n",
       "      <td>0.000000</td>\n",
       "      <td>0.000000</td>\n",
       "      <td>0.000000</td>\n",
       "      <td>0.000000</td>\n",
       "      <td>0.00000</td>\n",
       "      <td>0.000000</td>\n",
       "    </tr>\n",
       "    <tr>\n",
       "      <th>max</th>\n",
       "      <td>1.000000</td>\n",
       "      <td>1.000000</td>\n",
       "      <td>1.000000</td>\n",
       "      <td>1.000000</td>\n",
       "      <td>1.000000</td>\n",
       "      <td>1.000000</td>\n",
       "      <td>1.000000</td>\n",
       "      <td>1.000000</td>\n",
       "      <td>1.000000</td>\n",
       "      <td>1.000000</td>\n",
       "      <td>...</td>\n",
       "      <td>1.000000</td>\n",
       "      <td>1.000000</td>\n",
       "      <td>1.000000</td>\n",
       "      <td>1.000000</td>\n",
       "      <td>1.000000</td>\n",
       "      <td>1.000000</td>\n",
       "      <td>1.000000</td>\n",
       "      <td>1.000000</td>\n",
       "      <td>1.00000</td>\n",
       "      <td>1.000000</td>\n",
       "    </tr>\n",
       "    <tr>\n",
       "      <th>mean</th>\n",
       "      <td>0.099741</td>\n",
       "      <td>0.098302</td>\n",
       "      <td>0.098439</td>\n",
       "      <td>0.093138</td>\n",
       "      <td>0.088861</td>\n",
       "      <td>0.087601</td>\n",
       "      <td>0.087037</td>\n",
       "      <td>0.086069</td>\n",
       "      <td>0.085082</td>\n",
       "      <td>0.083768</td>\n",
       "      <td>...</td>\n",
       "      <td>0.080563</td>\n",
       "      <td>0.079303</td>\n",
       "      <td>0.079012</td>\n",
       "      <td>0.077176</td>\n",
       "      <td>0.075597</td>\n",
       "      <td>0.075548</td>\n",
       "      <td>0.070826</td>\n",
       "      <td>0.070175</td>\n",
       "      <td>0.04972</td>\n",
       "      <td>0.048664</td>\n",
       "    </tr>\n",
       "    <tr>\n",
       "      <th>count</th>\n",
       "      <td>4251.000000</td>\n",
       "      <td>6124.000000</td>\n",
       "      <td>9224.000000</td>\n",
       "      <td>5261.000000</td>\n",
       "      <td>38307.000000</td>\n",
       "      <td>56974.000000</td>\n",
       "      <td>540.000000</td>\n",
       "      <td>20774.000000</td>\n",
       "      <td>34602.000000</td>\n",
       "      <td>33760.000000</td>\n",
       "      <td>...</td>\n",
       "      <td>6256.000000</td>\n",
       "      <td>78660.000000</td>\n",
       "      <td>4050.000000</td>\n",
       "      <td>16093.000000</td>\n",
       "      <td>754.000000</td>\n",
       "      <td>4474.000000</td>\n",
       "      <td>2132.000000</td>\n",
       "      <td>114.000000</td>\n",
       "      <td>92618.00000</td>\n",
       "      <td>364544.000000</td>\n",
       "    </tr>\n",
       "    <tr>\n",
       "      <th>diff</th>\n",
       "      <td>0.036000</td>\n",
       "      <td>0.034000</td>\n",
       "      <td>0.034000</td>\n",
       "      <td>0.029000</td>\n",
       "      <td>0.025000</td>\n",
       "      <td>0.024000</td>\n",
       "      <td>0.023000</td>\n",
       "      <td>0.022000</td>\n",
       "      <td>0.021000</td>\n",
       "      <td>0.020000</td>\n",
       "      <td>...</td>\n",
       "      <td>0.017000</td>\n",
       "      <td>0.015000</td>\n",
       "      <td>0.015000</td>\n",
       "      <td>0.013000</td>\n",
       "      <td>0.012000</td>\n",
       "      <td>0.012000</td>\n",
       "      <td>0.007000</td>\n",
       "      <td>0.006000</td>\n",
       "      <td>-0.01400</td>\n",
       "      <td>-0.015000</td>\n",
       "    </tr>\n",
       "    <tr>\n",
       "      <th>risk</th>\n",
       "      <td>1.560000</td>\n",
       "      <td>1.540000</td>\n",
       "      <td>1.540000</td>\n",
       "      <td>1.460000</td>\n",
       "      <td>1.390000</td>\n",
       "      <td>1.370000</td>\n",
       "      <td>1.360000</td>\n",
       "      <td>1.340000</td>\n",
       "      <td>1.330000</td>\n",
       "      <td>1.310000</td>\n",
       "      <td>...</td>\n",
       "      <td>1.260000</td>\n",
       "      <td>1.240000</td>\n",
       "      <td>1.230000</td>\n",
       "      <td>1.210000</td>\n",
       "      <td>1.180000</td>\n",
       "      <td>1.180000</td>\n",
       "      <td>1.110000</td>\n",
       "      <td>1.100000</td>\n",
       "      <td>0.78000</td>\n",
       "      <td>0.760000</td>\n",
       "    </tr>\n",
       "  </tbody>\n",
       "</table>\n",
       "<p>6 rows × 22 columns</p>\n",
       "</div>"
      ],
      "text/plain": [
       "city          21.0          8.0         12.0         10.0           4.0   \n",
       "min       0.000000     0.000000     0.000000     0.000000      0.000000  \\\n",
       "max       1.000000     1.000000     1.000000     1.000000      1.000000   \n",
       "mean      0.099741     0.098302     0.098439     0.093138      0.088861   \n",
       "count  4251.000000  6124.000000  9224.000000  5261.000000  38307.000000   \n",
       "diff      0.036000     0.034000     0.034000     0.029000      0.025000   \n",
       "risk      1.560000     1.540000     1.540000     1.460000      1.390000   \n",
       "\n",
       "city            5.0        20.0           6.0          15.0          22.0   \n",
       "min        0.000000    0.000000      0.000000      0.000000      0.000000  \\\n",
       "max        1.000000    1.000000      1.000000      1.000000      1.000000   \n",
       "mean       0.087601    0.087037      0.086069      0.085082      0.083768   \n",
       "count  56974.000000  540.000000  20774.000000  34602.000000  33760.000000   \n",
       "diff       0.024000    0.023000      0.022000      0.021000      0.020000   \n",
       "risk       1.370000    1.360000      1.340000      1.330000      1.310000   \n",
       "\n",
       "city   ...         18.0          13.0          3.0          14.0        16.0   \n",
       "min    ...     0.000000      0.000000     0.000000      0.000000    0.000000  \\\n",
       "max    ...     1.000000      1.000000     1.000000      1.000000    1.000000   \n",
       "mean   ...     0.080563      0.079303     0.079012      0.077176    0.075597   \n",
       "count  ...  6256.000000  78660.000000  4050.000000  16093.000000  754.000000   \n",
       "diff   ...     0.017000      0.015000     0.015000      0.013000    0.012000   \n",
       "risk   ...     1.260000      1.240000     1.230000      1.210000    1.180000   \n",
       "\n",
       "city          17.0          7.0        19.0           ns            1.0  \n",
       "min       0.000000     0.000000    0.000000      0.00000       0.000000  \n",
       "max       1.000000     1.000000    1.000000      1.00000       1.000000  \n",
       "mean      0.075548     0.070826    0.070175      0.04972       0.048664  \n",
       "count  4474.000000  2132.000000  114.000000  92618.00000  364544.000000  \n",
       "diff      0.012000     0.007000    0.006000     -0.01400      -0.015000  \n",
       "risk      1.180000     1.110000    1.100000      0.78000       0.760000  \n",
       "\n",
       "[6 rows x 22 columns]"
      ]
     },
     "metadata": {},
     "output_type": "display_data"
    },
    {
     "name": "stdout",
     "output_type": "stream",
     "text": [
      "\n",
      "\n"
     ]
    }
   ],
   "source": [
    "for c in categorical:\n",
    "    print(c)\n",
    "    df_group = df_full_train.groupby(c).is_churn.agg(['min', 'max','mean','count'])\n",
    "    df_group['diff'] = round(df_group['mean'] - global_churn_rate,3)\n",
    "    df_group['risk'] = round(df_group['mean'] / global_churn_rate,2)\n",
    "    display(df_group.T.sort_values(by='risk', axis=1, ascending=False))\n",
    "    print()\n",
    "    print()\n",
    "    "
   ]
  },
  {
   "cell_type": "markdown",
   "id": "8f56e732",
   "metadata": {},
   "source": [
    "<h3> Feature Importance (Numerical features) </h3>"
   ]
  },
  {
   "cell_type": "code",
   "execution_count": 140,
   "id": "189db927",
   "metadata": {},
   "outputs": [
    {
     "data": {
      "text/plain": [
       "registration_init_time    0.021320\n",
       "num_25                   -0.084677\n",
       "num_50                   -0.082700\n",
       "num_75                   -0.096250\n",
       "num_985                  -0.069081\n",
       "num_100                  -0.108744\n",
       "num_unq                  -0.102880\n",
       "total_secs               -0.093795\n",
       "dtype: float64"
      ]
     },
     "execution_count": 140,
     "metadata": {},
     "output_type": "execute_result"
    }
   ],
   "source": [
    "df_full_train[numerical].corrwith(df_full_train.is_churn)"
   ]
  },
  {
   "cell_type": "markdown",
   "id": "a26d3d44",
   "metadata": {},
   "source": [
    "<h3> Dictionary Vectorizer </h3>"
   ]
  },
  {
   "cell_type": "markdown",
   "id": "2b909e6a",
   "metadata": {},
   "source": [
    "from sklearn.feature_extraction import DictVectorizer"
   ]
  },
  {
   "cell_type": "markdown",
   "id": "d7ee286a",
   "metadata": {},
   "source": [
    "train_dicts = df_train[categorical + numerical].to_dict(orient='records')\n",
    "val_dicts = df_val[categorical + numerical].to_dict(orient='records')"
   ]
  },
  {
   "cell_type": "markdown",
   "id": "e7245e75",
   "metadata": {},
   "source": [
    "train_dicts[0]"
   ]
  },
  {
   "cell_type": "markdown",
   "id": "4917cfd3",
   "metadata": {},
   "source": [
    "dv = DictVectorizer(sparse=False)"
   ]
  },
  {
   "cell_type": "markdown",
   "id": "f3e32541",
   "metadata": {},
   "source": [
    "# dv.fit(train_dicts)"
   ]
  },
  {
   "cell_type": "markdown",
   "id": "4211ed50",
   "metadata": {},
   "source": [
    "# dv.transform(train_dicts)"
   ]
  },
  {
   "cell_type": "markdown",
   "id": "c036d76c",
   "metadata": {},
   "source": [
    "dv.feature_names_"
   ]
  },
  {
   "cell_type": "markdown",
   "id": "512ac1a1",
   "metadata": {},
   "source": [
    "X_train = dv.fit_transform(train_dicts)\n",
    "X_val = dv.fit_transform(val_dicts)"
   ]
  },
  {
   "cell_type": "markdown",
   "id": "49c23e85",
   "metadata": {},
   "source": [
    "len(X_train), len(X_val)"
   ]
  },
  {
   "cell_type": "markdown",
   "id": "ed6e5693",
   "metadata": {},
   "source": [
    "<h3> Save datasets as pickle </h3>"
   ]
  },
  {
   "cell_type": "code",
   "execution_count": 3,
   "id": "22529f29",
   "metadata": {},
   "outputs": [],
   "source": [
    "import pickle"
   ]
  },
  {
   "cell_type": "code",
   "execution_count": 143,
   "id": "3714ecb3",
   "metadata": {},
   "outputs": [
    {
     "data": {
      "text/plain": [
       "(992931, 595758, 198586, 198587)"
      ]
     },
     "execution_count": 143,
     "metadata": {},
     "output_type": "execute_result"
    }
   ],
   "source": [
    "len(df_full), len(df_train), len(df_val), len(df_test)"
   ]
  },
  {
   "cell_type": "code",
   "execution_count": 144,
   "id": "87be2c00",
   "metadata": {},
   "outputs": [],
   "source": [
    "y_train = pd.DataFrame(y_train)\n",
    "y_val = pd.DataFrame(y_val)\n",
    "y_test = pd.DataFrame(y_test)\n"
   ]
  },
  {
   "cell_type": "code",
   "execution_count": 145,
   "id": "8b10e1d0",
   "metadata": {},
   "outputs": [],
   "source": [
    "df_full.to_pickle(\"./df_full.pkl\")\n",
    "df_train.to_pickle(\"./df_train.pkl\")\n",
    "df_val.to_pickle(\"./df_val.pkl\")\n",
    "df_test.to_pickle(\"./df_test.pkl\")\n",
    "\n",
    "y_train.to_pickle(\"./y_train.pkl\")\n",
    "y_val.to_pickle(\"./y_val.pkl\")\n",
    "y_test.to_pickle(\"./y_test.pkl\")"
   ]
  },
  {
   "cell_type": "code",
   "execution_count": 8,
   "id": "64aeb9cd",
   "metadata": {},
   "outputs": [],
   "source": [
    "df_train = pd.read_pickle(\"df_train.pkl\")"
   ]
  },
  {
   "cell_type": "code",
   "execution_count": 9,
   "id": "fef570e6",
   "metadata": {},
   "outputs": [
    {
     "data": {
      "text/html": [
       "<div>\n",
       "<style scoped>\n",
       "    .dataframe tbody tr th:only-of-type {\n",
       "        vertical-align: middle;\n",
       "    }\n",
       "\n",
       "    .dataframe tbody tr th {\n",
       "        vertical-align: top;\n",
       "    }\n",
       "\n",
       "    .dataframe thead th {\n",
       "        text-align: right;\n",
       "    }\n",
       "</style>\n",
       "<table border=\"1\" class=\"dataframe\">\n",
       "  <thead>\n",
       "    <tr style=\"text-align: right;\">\n",
       "      <th></th>\n",
       "      <th>msno</th>\n",
       "      <th>city</th>\n",
       "      <th>gender</th>\n",
       "      <th>registered_via</th>\n",
       "      <th>registration_init_time</th>\n",
       "      <th>date</th>\n",
       "      <th>num_25</th>\n",
       "      <th>num_50</th>\n",
       "      <th>num_75</th>\n",
       "      <th>num_985</th>\n",
       "      <th>num_100</th>\n",
       "      <th>num_unq</th>\n",
       "      <th>total_secs</th>\n",
       "    </tr>\n",
       "  </thead>\n",
       "  <tbody>\n",
       "    <tr>\n",
       "      <th>0</th>\n",
       "      <td>Kv7SX4LdO2DZM7PvYXOduREFvokC6hpE87oi9LEB7t8=</td>\n",
       "      <td>1.0</td>\n",
       "      <td>0.0</td>\n",
       "      <td>7.0</td>\n",
       "      <td>20140428.0</td>\n",
       "      <td>201703</td>\n",
       "      <td>20.0</td>\n",
       "      <td>2.0</td>\n",
       "      <td>2.0</td>\n",
       "      <td>1.0</td>\n",
       "      <td>11.0</td>\n",
       "      <td>28.0</td>\n",
       "      <td>3021.268</td>\n",
       "    </tr>\n",
       "    <tr>\n",
       "      <th>1</th>\n",
       "      <td>zT5Walnk/rNN0qPAGkhwOOTMNGpG8H4a5+XuxhQBLKE=</td>\n",
       "      <td>13.0</td>\n",
       "      <td>1.0</td>\n",
       "      <td>9.0</td>\n",
       "      <td>20070426.0</td>\n",
       "      <td>201703</td>\n",
       "      <td>7.0</td>\n",
       "      <td>0.0</td>\n",
       "      <td>1.0</td>\n",
       "      <td>0.0</td>\n",
       "      <td>4.0</td>\n",
       "      <td>12.0</td>\n",
       "      <td>1216.551</td>\n",
       "    </tr>\n",
       "    <tr>\n",
       "      <th>2</th>\n",
       "      <td>XUvUprqVv3bdOX57FFB4yjDOZDoTtG2TuQo9k924eK0=</td>\n",
       "      <td>1.0</td>\n",
       "      <td>0.0</td>\n",
       "      <td>7.0</td>\n",
       "      <td>20150822.0</td>\n",
       "      <td>201703</td>\n",
       "      <td>0.0</td>\n",
       "      <td>0.0</td>\n",
       "      <td>0.0</td>\n",
       "      <td>0.0</td>\n",
       "      <td>27.0</td>\n",
       "      <td>27.0</td>\n",
       "      <td>6346.438</td>\n",
       "    </tr>\n",
       "    <tr>\n",
       "      <th>3</th>\n",
       "      <td>LXGDMlbHWDdYI7ymCGYJeU2DWxafBzoXlDuXAv8aVpo=</td>\n",
       "      <td>1.0</td>\n",
       "      <td>0.0</td>\n",
       "      <td>7.0</td>\n",
       "      <td>20151115.0</td>\n",
       "      <td>201703</td>\n",
       "      <td>5.0</td>\n",
       "      <td>0.0</td>\n",
       "      <td>2.0</td>\n",
       "      <td>1.0</td>\n",
       "      <td>27.0</td>\n",
       "      <td>30.0</td>\n",
       "      <td>6709.970</td>\n",
       "    </tr>\n",
       "    <tr>\n",
       "      <th>4</th>\n",
       "      <td>fBMOcajIjTAUo67nojsB/gceYw9UwMpym6itieE9YsU=</td>\n",
       "      <td>13.0</td>\n",
       "      <td>2.0</td>\n",
       "      <td>9.0</td>\n",
       "      <td>20110105.0</td>\n",
       "      <td>201703</td>\n",
       "      <td>1.0</td>\n",
       "      <td>1.0</td>\n",
       "      <td>1.0</td>\n",
       "      <td>0.0</td>\n",
       "      <td>4.0</td>\n",
       "      <td>7.0</td>\n",
       "      <td>1232.410</td>\n",
       "    </tr>\n",
       "  </tbody>\n",
       "</table>\n",
       "</div>"
      ],
      "text/plain": [
       "                                           msno  city  gender registered_via   \n",
       "0  Kv7SX4LdO2DZM7PvYXOduREFvokC6hpE87oi9LEB7t8=   1.0     0.0            7.0  \\\n",
       "1  zT5Walnk/rNN0qPAGkhwOOTMNGpG8H4a5+XuxhQBLKE=  13.0     1.0            9.0   \n",
       "2  XUvUprqVv3bdOX57FFB4yjDOZDoTtG2TuQo9k924eK0=   1.0     0.0            7.0   \n",
       "3  LXGDMlbHWDdYI7ymCGYJeU2DWxafBzoXlDuXAv8aVpo=   1.0     0.0            7.0   \n",
       "4  fBMOcajIjTAUo67nojsB/gceYw9UwMpym6itieE9YsU=  13.0     2.0            9.0   \n",
       "\n",
       "   registration_init_time    date  num_25  num_50  num_75  num_985  num_100   \n",
       "0              20140428.0  201703    20.0     2.0     2.0      1.0     11.0  \\\n",
       "1              20070426.0  201703     7.0     0.0     1.0      0.0      4.0   \n",
       "2              20150822.0  201703     0.0     0.0     0.0      0.0     27.0   \n",
       "3              20151115.0  201703     5.0     0.0     2.0      1.0     27.0   \n",
       "4              20110105.0  201703     1.0     1.0     1.0      0.0      4.0   \n",
       "\n",
       "   num_unq  total_secs  \n",
       "0     28.0    3021.268  \n",
       "1     12.0    1216.551  \n",
       "2     27.0    6346.438  \n",
       "3     30.0    6709.970  \n",
       "4      7.0    1232.410  "
      ]
     },
     "execution_count": 9,
     "metadata": {},
     "output_type": "execute_result"
    }
   ],
   "source": [
    "df_train.head()"
   ]
  },
  {
   "cell_type": "code",
   "execution_count": 10,
   "id": "3ff8ac5e",
   "metadata": {},
   "outputs": [
    {
     "data": {
      "text/plain": [
       "msno                       object\n",
       "city                       object\n",
       "gender                    float64\n",
       "registered_via             object\n",
       "registration_init_time    float64\n",
       "date                       object\n",
       "num_25                    float64\n",
       "num_50                    float64\n",
       "num_75                    float64\n",
       "num_985                   float64\n",
       "num_100                   float64\n",
       "num_unq                   float64\n",
       "total_secs                float64\n",
       "dtype: object"
      ]
     },
     "execution_count": 10,
     "metadata": {},
     "output_type": "execute_result"
    }
   ],
   "source": [
    "df_train.dtypes"
   ]
  },
  {
   "cell_type": "code",
   "execution_count": null,
   "id": "345f74fe",
   "metadata": {},
   "outputs": [],
   "source": []
  }
 ],
 "metadata": {
  "kernelspec": {
   "display_name": "Python 3 (ipykernel)",
   "language": "python",
   "name": "python3"
  },
  "language_info": {
   "codemirror_mode": {
    "name": "ipython",
    "version": 3
   },
   "file_extension": ".py",
   "mimetype": "text/x-python",
   "name": "python",
   "nbconvert_exporter": "python",
   "pygments_lexer": "ipython3",
   "version": "3.9.16"
  }
 },
 "nbformat": 4,
 "nbformat_minor": 5
}
